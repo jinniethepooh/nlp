{
 "cells": [
  {
   "cell_type": "markdown",
   "metadata": {},
   "source": [
    "# Dimensionality Rediction\n",
    "<br>\n",
    "Source:\n",
    "\n",
    "[link](https://saturncloud.io/blog/what-is-the-difference-between-pca-truncated-svd-and-svds-in-numpy-and-sklearn/)"
   ]
  },
  {
   "cell_type": "code",
   "execution_count": 19,
   "metadata": {},
   "outputs": [],
   "source": [
    "# Imports\n",
    "import numpy as np\n",
    "\n",
    "from numpy.linalg import eig\n",
    "from sklearn.decomposition import PCA\n",
    "\n",
    "from numpy.linalg import svd\n",
    "from sklearn.decomposition import TruncatedSVD\n",
    "from sklearn.utils.extmath import randomized_svd\n",
    "\n",
    "from scipy.sparse.linalg import svds\n",
    "from scipy.sparse import csc_matrix"
   ]
  },
  {
   "cell_type": "code",
   "execution_count": 20,
   "metadata": {},
   "outputs": [
    {
     "name": "stdout",
     "output_type": "stream",
     "text": [
      "[[1 2 3]\n",
      " [3 4 5]\n",
      " [5 6 7]\n",
      " [7 8 9]]\n"
     ]
    }
   ],
   "source": [
    "# Preamble\n",
    "# Mock-up sample array\n",
    "# Example 1: 2 features, 3 samples\n",
    "#X = np.array([\n",
    "#\t[1, 2],\n",
    "#\t[3, 4],\n",
    "#\t[5, 6]\n",
    "#])\n",
    "\n",
    "# Example 2: 3 features, 4 samples\n",
    "X = np.array([\n",
    "\t[1, 2, 3],\n",
    "\t[3, 4, 5],\n",
    "\t[5, 6, 7],\n",
    "\t[7, 8, 9]\n",
    "])\n",
    "\n",
    "# Number of features (dimensions)\n",
    "n_dim = 2\n",
    "\n",
    "print(X)"
   ]
  },
  {
   "cell_type": "markdown",
   "metadata": {},
   "source": [
    "## Concept"
   ]
  },
  {
   "cell_type": "code",
   "execution_count": 21,
   "metadata": {},
   "outputs": [
    {
     "name": "stdout",
     "output_type": "stream",
     "text": [
      "Covariance:\n",
      " [[6.66666667 6.66666667 6.66666667]\n",
      " [6.66666667 6.66666667 6.66666667]\n",
      " [6.66666667 6.66666667 6.66666667]]\n",
      "\n",
      "Eigen values:\n",
      " [ 2.00000000e+01 -1.95279746e-15  9.00776117e-32]\n",
      "Eigen vectors:\n",
      " [[ 5.77350269e-01  8.12978835e-01 -6.90899878e-17]\n",
      " [ 5.77350269e-01 -4.72056641e-01  7.07106781e-01]\n",
      " [ 5.77350269e-01 -3.40922194e-01 -7.07106781e-01]]\n",
      "\n",
      "Sorted indices of eigen values:\n",
      " [0 2 1]\n",
      "Eigen values:\n",
      " [ 2.00000000e+01  9.00776117e-32 -1.95279746e-15]\n",
      "Eigen vectors:\n",
      " [[ 5.77350269e-01 -6.90899878e-17  8.12978835e-01]\n",
      " [ 5.77350269e-01  7.07106781e-01 -4.72056641e-01]\n",
      " [ 5.77350269e-01 -7.07106781e-01 -3.40922194e-01]]\n",
      "\n",
      "Transformed data:\n",
      " [[ 5.77350269e-01 -6.90899878e-17  8.12978835e-01]\n",
      " [ 5.77350269e-01  7.07106781e-01 -4.72056641e-01]\n",
      " [ 5.77350269e-01 -7.07106781e-01 -3.40922194e-01]]\n"
     ]
    }
   ],
   "source": [
    "# Calculate covariance matrix\n",
    "cov_matrix = np.cov(X.T)\n",
    "print('Covariance:\\n', cov_matrix)\n",
    "\n",
    "# Calculate eigenvalues and eigenvectors\n",
    "eigenvalues, eigenvectors = eig(cov_matrix)\n",
    "print()\n",
    "print('Eigen values:\\n', eigenvalues)\n",
    "print('Eigen vectors:\\n', eigenvectors)\n",
    "\n",
    "# Sort eigenvectors by eigenvalues\n",
    "sorted_indices = eigenvalues.argsort()[::-1]\n",
    "print()\n",
    "print('Sorted indices of eigen values:\\n', sorted_indices)\n",
    "eigenvalues = eigenvalues[sorted_indices]\n",
    "print('Eigen values:\\n', eigenvalues)\n",
    "eigenvectors = eigenvectors[:, sorted_indices]\n",
    "print('Eigen vectors:\\n', eigenvectors)\n",
    "\n",
    "# Transform data using first two principal components\n",
    "transformed = X.dot(eigenvectors[:, :n_dim])\n",
    "print()\n",
    "print('Transformed data:\\n', eigenvectors)"
   ]
  },
  {
   "cell_type": "markdown",
   "metadata": {},
   "source": [
    "## PCA: Principal Component Analysis"
   ]
  },
  {
   "cell_type": "code",
   "execution_count": 22,
   "metadata": {},
   "outputs": [
    {
     "name": "stdout",
     "output_type": "stream",
     "text": [
      "Transformed data:\n",
      " [[ 5.19615242e+00  2.38225952e-17]\n",
      " [ 1.73205081e+00 -6.49707143e-18]\n",
      " [-1.73205081e+00  6.49707143e-18]\n",
      " [-5.19615242e+00  1.94912143e-17]]\n"
     ]
    }
   ],
   "source": [
    "pca = PCA(n_components=n_dim)\n",
    "transformed = pca.fit_transform(X)\n",
    "print('Transformed data:\\n', transformed)"
   ]
  },
  {
   "cell_type": "markdown",
   "metadata": {},
   "source": [
    "## Truncated SVD: Truncated Singular Value Decomposition"
   ]
  },
  {
   "cell_type": "markdown",
   "metadata": {},
   "source": [
    "Truncated SVD can be implemented in Numpy using the numpy.linalg library. Here is an example of how to use Truncated SVD in Numpy:"
   ]
  },
  {
   "cell_type": "code",
   "execution_count": 23,
   "metadata": {},
   "outputs": [
    {
     "name": "stdout",
     "output_type": "stream",
     "text": [
      "Transformed data:\n",
      " [[1. 2. 3.]\n",
      " [3. 4. 5.]\n",
      " [5. 6. 7.]\n",
      " [7. 8. 9.]]\n"
     ]
    }
   ],
   "source": [
    "U, S, Vt = svd(X, full_matrices=False)\n",
    "transformed = U.dot(np.diag(S)).dot(Vt)\n",
    "print('Transformed data:\\n', transformed)"
   ]
  },
  {
   "cell_type": "markdown",
   "metadata": {},
   "source": [
    "In Sklearn, Truncated SVD can be implemented using the sklearn.decomposition library. Here is an example of how to use Truncated SVD in Sklearn:"
   ]
  },
  {
   "cell_type": "code",
   "execution_count": 24,
   "metadata": {},
   "outputs": [
    {
     "name": "stdout",
     "output_type": "stream",
     "text": [
      "Transformed data:\n",
      " [[ 3.62361288e+00  9.32432124e-01]\n",
      " [ 7.05585006e+00  4.63659289e-01]\n",
      " [ 1.04880872e+01 -5.11354618e-03]\n",
      " [ 1.39203244e+01 -4.73886381e-01]]\n"
     ]
    }
   ],
   "source": [
    "svd = TruncatedSVD(n_components=n_dim)\n",
    "transformed = svd.fit_transform(X)\n",
    "print('Transformed data:\\n', transformed)"
   ]
  },
  {
   "cell_type": "markdown",
   "metadata": {},
   "source": [
    "## SVDS: Singular Value Decomposition"
   ]
  },
  {
   "cell_type": "code",
   "execution_count": 25,
   "metadata": {},
   "outputs": [
    {
     "name": "stdout",
     "output_type": "stream",
     "text": [
      "Transformed data:\n",
      " [[1. 2. 3.]\n",
      " [3. 4. 5.]\n",
      " [5. 6. 7.]\n",
      " [7. 8. 9.]]\n"
     ]
    },
    {
     "name": "stderr",
     "output_type": "stream",
     "text": [
      "/Users/jinniec/.pyenv/versions/3.9.15/envs/py39/lib/python3.9/site-packages/sklearn/utils/extmath.py:370: FutureWarning: If 'random_state' is not supplied, the current default is to use 0 as a fixed seed. This will change to  None in version 1.2 leading to non-deterministic results that better reflect nature of the randomized_svd solver. If you want to silence this warning, set 'random_state' to an integer seed or to None explicitly depending if you want your code to be deterministic or not.\n",
      "  warnings.warn(\n"
     ]
    }
   ],
   "source": [
    "U, S, Vt = randomized_svd(X, n_components=n_dim)\n",
    "transformed = U.dot(np.diag(S)).dot(Vt)\n",
    "print('Transformed data:\\n', transformed)"
   ]
  },
  {
   "cell_type": "markdown",
   "metadata": {},
   "source": [
    "PCA, Truncated SVD, and SVDS are all linear algebra techniques used for dimensionality reduction, but they differ in their approach.\n",
    "- PCA is used to find the most important features in the data and project them onto a lower-dimensional space.\n",
    "- Truncated SVD is used to perform a partial decomposition of the data matrix and retain most of the important information.\n",
    "- SVDS is used to calculate a partial decomposition of a large matrix where a full decomposition is not feasible"
   ]
  },
  {
   "cell_type": "markdown",
   "metadata": {},
   "source": []
  }
 ],
 "metadata": {
  "kernelspec": {
   "display_name": "py39",
   "language": "python",
   "name": "python3"
  },
  "language_info": {
   "codemirror_mode": {
    "name": "ipython",
    "version": 3
   },
   "file_extension": ".py",
   "mimetype": "text/x-python",
   "name": "python",
   "nbconvert_exporter": "python",
   "pygments_lexer": "ipython3",
   "version": "3.9.15"
  },
  "orig_nbformat": 4
 },
 "nbformat": 4,
 "nbformat_minor": 2
}
