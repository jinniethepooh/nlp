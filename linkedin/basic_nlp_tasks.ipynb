{
 "cells": [
  {
   "cell_type": "markdown",
   "metadata": {},
   "source": [
    "# introduction to NLP"
   ]
  },
  {
   "cell_type": "code",
   "execution_count": 1,
   "metadata": {},
   "outputs": [],
   "source": [
    "# import library\n",
    "import nltk"
   ]
  },
  {
   "cell_type": "code",
   "execution_count": 2,
   "metadata": {},
   "outputs": [],
   "source": [
    "text = \"On Wednesday, the Association for Computing Machinery, the world’s largest society of computing professionals, announced that Hinton, LeCun and Bengio had won this year’s Turing Award for their work on neural networks. The Turing Award, which was introduced in 1966, is often called the Nobel Prize of computing, and it includes a $1 million prize, which the three scientists will share.\""
   ]
  },
  {
   "cell_type": "markdown",
   "metadata": {},
   "source": [
    "## sentect tokenizer"
   ]
  },
  {
   "cell_type": "code",
   "execution_count": 3,
   "metadata": {},
   "outputs": [
    {
     "name": "stderr",
     "output_type": "stream",
     "text": [
      "[nltk_data] Downloading package punkt to /Users/jinnie/nltk_data...\n",
      "[nltk_data]   Unzipping tokenizers/punkt.zip.\n"
     ]
    },
    {
     "data": {
      "text/plain": [
       "True"
      ]
     },
     "execution_count": 3,
     "metadata": {},
     "output_type": "execute_result"
    }
   ],
   "source": [
    "# import sentence tokenizer\n",
    "nltk.download('punkt')"
   ]
  },
  {
   "cell_type": "code",
   "execution_count": 4,
   "metadata": {},
   "outputs": [
    {
     "name": "stdout",
     "output_type": "stream",
     "text": [
      "sentence tokenizing the text :\n",
      "['On Wednesday, the Association for Computing Machinery, the world’s largest society of computing professionals, announced that Hinton, LeCun and Bengio had won this year’s Turing Award for their work on neural networks.', 'The Turing Award, which was introduced in 1966, is often called the Nobel Prize of computing, and it includes a $1 million prize, which the three scientists will share.']\n"
     ]
    }
   ],
   "source": [
    "# import sentence tokenizer\n",
    "from nltk.tokenize import sent_tokenize\n",
    "\n",
    "# tokenize a sentence\n",
    "sent_tk = sent_tokenize(text)\n",
    "\n",
    "# print the output\n",
    "print('sentence tokenizing the text :')\n",
    "print(sent_tk)"
   ]
  },
  {
   "cell_type": "markdown",
   "metadata": {},
   "source": [
    "## word tokenizer"
   ]
  },
  {
   "cell_type": "code",
   "execution_count": 5,
   "metadata": {},
   "outputs": [
    {
     "name": "stdout",
     "output_type": "stream",
     "text": [
      "word tokenizing the text :\n",
      "['On', 'Wednesday', ',', 'the', 'Association', 'for', 'Computing', 'Machinery', ',', 'the', 'world', '’', 's', 'largest', 'society', 'of', 'computing', 'professionals', ',', 'announced', 'that', 'Hinton', ',', 'LeCun', 'and', 'Bengio', 'had', 'won', 'this', 'year', '’', 's', 'Turing', 'Award', 'for', 'their', 'work', 'on', 'neural', 'networks', '.', 'The', 'Turing', 'Award', ',', 'which', 'was', 'introduced', 'in', '1966', ',', 'is', 'often', 'called', 'the', 'Nobel', 'Prize', 'of', 'computing', ',', 'and', 'it', 'includes', 'a', '$', '1', 'million', 'prize', ',', 'which', 'the', 'three', 'scientists', 'will', 'share', '.']\n"
     ]
    }
   ],
   "source": [
    "# import word tokenizer\n",
    "from nltk.tokenize import word_tokenize\n",
    "\n",
    "# tokenize a word\n",
    "word_tk = word_tokenize(text)\n",
    "\n",
    "# print the output\n",
    "print('word tokenizing the text :')\n",
    "print(word_tk)"
   ]
  },
  {
   "cell_type": "markdown",
   "metadata": {},
   "source": [
    "## removing stop words"
   ]
  },
  {
   "cell_type": "code",
   "execution_count": 6,
   "metadata": {},
   "outputs": [
    {
     "name": "stderr",
     "output_type": "stream",
     "text": [
      "[nltk_data] Downloading package stopwords to\n",
      "[nltk_data]     /Users/jinnie/nltk_data...\n",
      "[nltk_data]   Unzipping corpora/stopwords.zip.\n"
     ]
    },
    {
     "data": {
      "text/plain": [
       "True"
      ]
     },
     "execution_count": 6,
     "metadata": {},
     "output_type": "execute_result"
    }
   ],
   "source": [
    "# import corpus\n",
    "nltk.download('stopwords')"
   ]
  },
  {
   "cell_type": "code",
   "execution_count": 7,
   "metadata": {},
   "outputs": [
    {
     "name": "stdout",
     "output_type": "stream",
     "text": [
      "stop words in english from nltk corpus :\n",
      "{'were', 'wasn', 'further', 'if', 'herself', 'that', 'because', \"aren't\", \"haven't\", 'is', 'did', 'some', 'each', 'other', 'hasn', 'be', 'and', 'only', 'during', 'll', 'as', 'above', 'with', \"didn't\", 'won', \"hasn't\", 'ours', 'my', 'up', 'more', 'a', 'where', 'she', 'shan', 'for', 'ma', 'about', 'any', 'been', \"isn't\", 'just', 'wouldn', 'too', 'own', 'it', 'doing', 'you', \"don't\", 'will', 'me', \"she's\", \"you'll\", 'mightn', \"you're\", 'our', 'between', \"doesn't\", 'here', 'don', 'once', 'to', 've', 'ourselves', 'has', 'him', 'them', 'nor', 'an', 'when', 're', \"hadn't\", 'in', 'then', \"it's\", 'myself', 'yours', \"that'll\", 'should', 'aren', 'how', 'whom', 'again', \"wouldn't\", 'or', 'there', 'against', 's', 'now', \"you'd\", 'on', 'couldn', 'who', 'your', 'yourself', 'himself', 'themselves', 'his', 'until', 'haven', 'we', 'after', 'not', 'while', \"shan't\", 'this', 'so', 'from', 'needn', 'few', \"mightn't\", 'isn', 'by', 'm', 'below', 'the', 'was', 'do', 'all', 'over', 'their', 'off', 'y', \"should've\", 'same', 'of', 'yourselves', 'which', 'very', 'at', 'ain', 'can', \"you've\", 'o', \"wasn't\", 'her', 'out', 'am', \"needn't\", 'does', 'he', 't', 'd', 'down', 'itself', 'doesn', 'these', \"won't\", \"mustn't\", 'such', 'they', 'most', 'both', 'have', 'hers', 'than', 'mustn', 'its', 'under', 'hadn', 'why', 'theirs', 'weren', 'what', 'being', 'no', 'into', \"couldn't\", 'but', 'through', 'didn', 'are', 'those', \"shouldn't\", 'before', \"weren't\", 'i', 'having', 'shouldn', 'had'}\n"
     ]
    }
   ],
   "source": [
    "# import stopwords\n",
    "from nltk.corpus import stopwords\n",
    "\n",
    "sw = set(stopwords.words('english'))\n",
    "print('stop words in english from nltk corpus :')\n",
    "print(sw)"
   ]
  },
  {
   "cell_type": "code",
   "execution_count": 8,
   "metadata": {},
   "outputs": [
    {
     "name": "stdout",
     "output_type": "stream",
     "text": [
      "words after removing stop words :\n",
      "['On', 'Wednesday', ',', 'Association', 'Computing', 'Machinery', ',', 'world', '’', 'largest', 'society', 'computing', 'professionals', ',', 'announced', 'Hinton', ',', 'LeCun', 'Bengio', 'year', '’', 'Turing', 'Award', 'work', 'neural', 'networks', '.', 'The', 'Turing', 'Award', ',', 'introduced', '1966', ',', 'often', 'called', 'Nobel', 'Prize', 'computing', ',', 'includes', '$', '1', 'million', 'prize', ',', 'three', 'scientists', 'share', '.']\n"
     ]
    }
   ],
   "source": [
    "# create a list w/o stop words\n",
    "new_words = [w for w in word_tk if not w in sw]\n",
    "\n",
    "# print the output\n",
    "print('words after removing stop words :')\n",
    "print(new_words)"
   ]
  },
  {
   "cell_type": "code",
   "execution_count": 10,
   "metadata": {},
   "outputs": [
    {
     "name": "stdout",
     "output_type": "stream",
     "text": [
      "['the', 'for', 'the', 's', 'of', 'that', 'and', 'had', 'won', 'this', 's', 'for', 'their', 'on', 'which', 'was', 'in', 'is', 'the', 'of', 'and', 'it', 'a', 'which', 'the', 'will']\n"
     ]
    }
   ],
   "source": [
    "# observe stop words that found in text\n",
    "print([w for w in word_tk if w in sw])"
   ]
  },
  {
   "cell_type": "markdown",
   "metadata": {},
   "source": [
    "## stemming"
   ]
  },
  {
   "cell_type": "code",
   "execution_count": 12,
   "metadata": {},
   "outputs": [],
   "source": [
    "# import stemmer\n",
    "from nltk.stem import PorterStemmer\n",
    "\n",
    "# initialize stem object\n",
    "port_stem = PorterStemmer()"
   ]
  },
  {
   "cell_type": "code",
   "execution_count": 15,
   "metadata": {},
   "outputs": [
    {
     "name": "stdout",
     "output_type": "stream",
     "text": [
      "filtered words :  ['On', 'Wednesday', ',', 'Association', 'Computing', 'Machinery', ',', 'world', '’', 'largest', 'society', 'computing', 'professionals', ',', 'announced', 'Hinton', ',', 'LeCun', 'Bengio', 'year', '’', 'Turing', 'Award', 'work', 'neural', 'networks', '.', 'The', 'Turing', 'Award', ',', 'introduced', '1966', ',', 'often', 'called', 'Nobel', 'Prize', 'computing', ',', 'includes', '$', '1', 'million', 'prize', ',', 'three', 'scientists', 'share', '.']\n",
      "--------------------\n",
      "stemmed words :  ['on', 'wednesday', ',', 'associ', 'comput', 'machineri', ',', 'world', '’', 'largest', 'societi', 'comput', 'profession', ',', 'announc', 'hinton', ',', 'lecun', 'bengio', 'year', '’', 'ture', 'award', 'work', 'neural', 'network', '.', 'the', 'ture', 'award', ',', 'introduc', '1966', ',', 'often', 'call', 'nobel', 'prize', 'comput', ',', 'includ', '$', '1', 'million', 'prize', ',', 'three', 'scientist', 'share', '.']\n"
     ]
    }
   ],
   "source": [
    "# stem words\n",
    "stemmed_word = []\n",
    "\n",
    "for w in new_words:\n",
    "\tstemmed_word.append(port_stem.stem(w))\n",
    "\n",
    "print('filtered words : ', new_words)\n",
    "print('-' * 20)\n",
    "print('stemmed words : ', stemmed_word)"
   ]
  },
  {
   "cell_type": "markdown",
   "metadata": {},
   "source": [
    "## lemmatizing"
   ]
  },
  {
   "cell_type": "code",
   "execution_count": 21,
   "metadata": {},
   "outputs": [
    {
     "name": "stderr",
     "output_type": "stream",
     "text": [
      "[nltk_data] Downloading package omw-1.4 to /Users/jinnie/nltk_data...\n"
     ]
    },
    {
     "data": {
      "text/plain": [
       "True"
      ]
     },
     "execution_count": 21,
     "metadata": {},
     "output_type": "execute_result"
    }
   ],
   "source": [
    "# import lemmatizer\n",
    "nltk.download('omw-1.4')"
   ]
  },
  {
   "cell_type": "code",
   "execution_count": 22,
   "metadata": {},
   "outputs": [],
   "source": [
    "# import lemmatizer\n",
    "from nltk.stem.wordnet import WordNetLemmatizer\n",
    "\n",
    "# initialize lemmatizer object\n",
    "lem = WordNetLemmatizer()"
   ]
  },
  {
   "cell_type": "code",
   "execution_count": 25,
   "metadata": {},
   "outputs": [
    {
     "name": "stdout",
     "output_type": "stream",
     "text": [
      "stemmed :  ['on', 'wednesday', ',', 'associ', 'comput', 'machineri', ',', 'world', '’', 'largest', 'societi', 'comput', 'profession', ',', 'announc', 'hinton', ',', 'lecun', 'bengio', 'year', '’', 'ture', 'award', 'work', 'neural', 'network', '.', 'the', 'ture', 'award', ',', 'introduc', '1966', ',', 'often', 'call', 'nobel', 'prize', 'comput', ',', 'includ', '$', '1', 'million', 'prize', ',', 'three', 'scientist', 'share', '.']\n",
      "--------------------\n",
      "lemmed : ['On', 'Wednesday', ',', 'Association', 'Computing', 'Machinery', ',', 'world', '’', 'largest', 'society', 'computing', 'professional', ',', 'announced', 'Hinton', ',', 'LeCun', 'Bengio', 'year', '’', 'Turing', 'Award', 'work', 'neural', 'network', '.', 'The', 'Turing', 'Award', ',', 'introduced', '1966', ',', 'often', 'called', 'Nobel', 'Prize', 'computing', ',', 'includes', '$', '1', 'million', 'prize', ',', 'three', 'scientist', 'share', '.']\n"
     ]
    }
   ],
   "source": [
    "# lemmatize words\n",
    "lemmed_words = []\n",
    "\n",
    "for w in new_words:\n",
    "\tlemmed_words.append(lem.lemmatize(w))\n",
    "\n",
    "# print the output\n",
    "print('stemmed : ', stemmed_word)\n",
    "print('-' * 20)\n",
    "print('lemmed :', lemmed_words)"
   ]
  },
  {
   "cell_type": "markdown",
   "metadata": {},
   "source": [
    "## part of speech tagging (pos tagging)"
   ]
  },
  {
   "cell_type": "code",
   "execution_count": 27,
   "metadata": {},
   "outputs": [
    {
     "name": "stderr",
     "output_type": "stream",
     "text": [
      "[nltk_data] Downloading package averaged_perceptron_tagger to\n",
      "[nltk_data]     /Users/jinnie/nltk_data...\n",
      "[nltk_data]   Unzipping taggers/averaged_perceptron_tagger.zip.\n"
     ]
    },
    {
     "data": {
      "text/plain": [
       "True"
      ]
     },
     "execution_count": 27,
     "metadata": {},
     "output_type": "execute_result"
    }
   ],
   "source": [
    "# import tagger\n",
    "nltk.download('averaged_perceptron_tagger')"
   ]
  },
  {
   "cell_type": "code",
   "execution_count": 28,
   "metadata": {},
   "outputs": [
    {
     "data": {
      "text/plain": [
       "[('On', 'IN'),\n",
       " ('Wednesday', 'NNP'),\n",
       " (',', ','),\n",
       " ('the', 'DT'),\n",
       " ('Association', 'NNP'),\n",
       " ('for', 'IN'),\n",
       " ('Computing', 'VBG'),\n",
       " ('Machinery', 'NNP'),\n",
       " (',', ','),\n",
       " ('the', 'DT'),\n",
       " ('world', 'NN'),\n",
       " ('’', 'NNP'),\n",
       " ('s', 'RB'),\n",
       " ('largest', 'JJS'),\n",
       " ('society', 'NN'),\n",
       " ('of', 'IN'),\n",
       " ('computing', 'VBG'),\n",
       " ('professionals', 'NNS'),\n",
       " (',', ','),\n",
       " ('announced', 'VBD'),\n",
       " ('that', 'IN'),\n",
       " ('Hinton', 'NNP'),\n",
       " (',', ','),\n",
       " ('LeCun', 'NNP'),\n",
       " ('and', 'CC'),\n",
       " ('Bengio', 'NNP'),\n",
       " ('had', 'VBD'),\n",
       " ('won', 'VBN'),\n",
       " ('this', 'DT'),\n",
       " ('year', 'NN'),\n",
       " ('’', 'VBZ'),\n",
       " ('s', 'JJ'),\n",
       " ('Turing', 'NNP'),\n",
       " ('Award', 'NNP'),\n",
       " ('for', 'IN'),\n",
       " ('their', 'PRP$'),\n",
       " ('work', 'NN'),\n",
       " ('on', 'IN'),\n",
       " ('neural', 'JJ'),\n",
       " ('networks', 'NNS'),\n",
       " ('.', '.'),\n",
       " ('The', 'DT'),\n",
       " ('Turing', 'NNP'),\n",
       " ('Award', 'NNP'),\n",
       " (',', ','),\n",
       " ('which', 'WDT'),\n",
       " ('was', 'VBD'),\n",
       " ('introduced', 'VBN'),\n",
       " ('in', 'IN'),\n",
       " ('1966', 'CD'),\n",
       " (',', ','),\n",
       " ('is', 'VBZ'),\n",
       " ('often', 'RB'),\n",
       " ('called', 'VBN'),\n",
       " ('the', 'DT'),\n",
       " ('Nobel', 'NNP'),\n",
       " ('Prize', 'NNP'),\n",
       " ('of', 'IN'),\n",
       " ('computing', 'NN'),\n",
       " (',', ','),\n",
       " ('and', 'CC'),\n",
       " ('it', 'PRP'),\n",
       " ('includes', 'VBZ'),\n",
       " ('a', 'DT'),\n",
       " ('$', '$'),\n",
       " ('1', 'CD'),\n",
       " ('million', 'CD'),\n",
       " ('prize', 'NN'),\n",
       " (',', ','),\n",
       " ('which', 'WDT'),\n",
       " ('the', 'DT'),\n",
       " ('three', 'CD'),\n",
       " ('scientists', 'NNS'),\n",
       " ('will', 'MD'),\n",
       " ('share', 'NN'),\n",
       " ('.', '.')]"
      ]
     },
     "execution_count": 28,
     "metadata": {},
     "output_type": "execute_result"
    }
   ],
   "source": [
    "# import library\n",
    "from nltk import pos_tag\n",
    "\n",
    "# initialize tagger\n",
    "pos_tagged_word = pos_tag(word_tk)\n",
    "pos_tagged_word\n"
   ]
  },
  {
   "cell_type": "markdown",
   "metadata": {},
   "source": [
    "## frequency distribution plots"
   ]
  },
  {
   "cell_type": "code",
   "execution_count": 29,
   "metadata": {},
   "outputs": [
    {
     "data": {
      "text/plain": [
       "FreqDist({',': 8, 'the': 4, 'for': 2, '’': 2, 's': 2, 'of': 2, 'computing': 2, 'and': 2, 'Turing': 2, 'Award': 2, ...})"
      ]
     },
     "execution_count": 29,
     "metadata": {},
     "output_type": "execute_result"
    }
   ],
   "source": [
    "# import libraries\n",
    "from nltk.probability import FreqDist\n",
    "\n",
    "# initialize the object\n",
    "fd = FreqDist(word_tk)\n",
    "fd"
   ]
  },
  {
   "cell_type": "code",
   "execution_count": 30,
   "metadata": {},
   "outputs": [
    {
     "data": {
      "image/png": "[encoded data removed]",
      "text/plain": [
       "<Figure size 640x480 with 1 Axes>"
      ]
     },
     "metadata": {},
     "output_type": "display_data"
    }
   ],
   "source": [
    "# import libraries for plot\n",
    "import matplotlib.pyplot as plt\n",
    "\n",
    "# plot the figure as words\n",
    "fd.plot(30)\n",
    "plt.show()"
   ]
  }
 ],
 "metadata": {
  "kernelspec": {
   "display_name": "Python 3.11.0 64-bit",
   "language": "python",
   "name": "python3"
  },
  "language_info": {
   "codemirror_mode": {
    "name": "ipython",
    "version": 3
   },
   "file_extension": ".py",
   "mimetype": "text/x-python",
   "name": "python",
   "nbconvert_exporter": "python",
   "pygments_lexer": "ipython3",
   "version": "3.11.0"
  },
  "orig_nbformat": 4,
  "vscode": {
   "interpreter": {
    "hash": "aee8b7b246df8f9039afb4144a1f6fd8d2ca17a180786b69acc140d282b71a49"
   }
  }
 },
 "nbformat": 4,
 "nbformat_minor": 2
}
