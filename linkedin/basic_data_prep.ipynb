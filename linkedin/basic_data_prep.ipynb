{
 "cells": [
  {
   "cell_type": "markdown",
   "metadata": {},
   "source": [
    "<h1>basic data preparation</h1>\n",
    "<h4>segment 1 : filtering and selecting data</h4>"
   ]
  },
  {
   "cell_type": "code",
   "execution_count": 182,
   "metadata": {},
   "outputs": [],
   "source": [
    "# import library\n",
    "import numpy as np\n",
    "import pandas as pd\n",
    "\n",
    "from pandas import Series, DataFrame"
   ]
  },
  {
   "cell_type": "markdown",
   "metadata": {},
   "source": [
    "<h4>selecting and retrieving data</h4>\n",
    "<p>index value : label or integer index</p>"
   ]
  },
  {
   "cell_type": "code",
   "execution_count": 183,
   "metadata": {},
   "outputs": [
    {
     "data": {
      "text/plain": [
       "['row 1', 'row 2', 'row 3', 'row 4', 'row 5', 'row 6', 'row 7', 'row 8']"
      ]
     },
     "execution_count": 183,
     "metadata": {},
     "output_type": "execute_result"
    }
   ],
   "source": [
    "# declare in used variables\n",
    "# size of stuff we would like to create\n",
    "series_size = 8\n",
    "df_size = 6\n",
    "\n",
    "# define the function used for generating the index list\n",
    "def index_generator(index_list, size, name) -> list:\n",
    "\tfor i in range(size):\n",
    "\t\tindex_list.append(name + ' ' + str(i + 1))\n",
    "\treturn index_list\n",
    "\n",
    "# create label index for a series\n",
    "label_index = []\n",
    "label_index = index_generator(label_index, series_size, 'row')\n",
    "\n",
    "label_index"
   ]
  },
  {
   "cell_type": "code",
   "execution_count": 184,
   "metadata": {},
   "outputs": [
    {
     "data": {
      "text/plain": [
       "row 1    0\n",
       "row 2    1\n",
       "row 3    2\n",
       "row 4    3\n",
       "row 5    4\n",
       "row 6    5\n",
       "row 7    6\n",
       "row 8    7\n",
       "dtype: int64"
      ]
     },
     "execution_count": 184,
     "metadata": {},
     "output_type": "execute_result"
    }
   ],
   "source": [
    "# Series\n",
    "# create a series name 'series_obj' with label index\n",
    "series_obj = Series(np.arange(series_size), index=label_index)\n",
    "\n",
    "# display the whole series\n",
    "series_obj"
   ]
  },
  {
   "cell_type": "code",
   "execution_count": 185,
   "metadata": {},
   "outputs": [
    {
     "name": "stdout",
     "output_type": "stream",
     "text": [
      "5\n",
      "row 6    5\n",
      "row 1    0\n",
      "dtype: int64\n"
     ]
    }
   ],
   "source": [
    "# print the element specified by label index\n",
    "print(series_obj['row 6'])\n",
    "print(series_obj[['row 6', 'row 1']])"
   ]
  },
  {
   "cell_type": "code",
   "execution_count": 186,
   "metadata": {},
   "outputs": [
    {
     "name": "stdout",
     "output_type": "stream",
     "text": [
      "0\n",
      "7\n",
      "row 1    0\n",
      "row 8    7\n",
      "dtype: int64\n"
     ]
    }
   ],
   "source": [
    "# print the element specified by integer index\n",
    "print(series_obj[0])\n",
    "print(series_obj[7])\n",
    "print(series_obj[[0, 7]])"
   ]
  },
  {
   "cell_type": "code",
   "execution_count": 187,
   "metadata": {},
   "outputs": [
    {
     "data": {
      "text/html": [
       "<div>\n",
       "<style scoped>\n",
       "    .dataframe tbody tr th:only-of-type {\n",
       "        vertical-align: middle;\n",
       "    }\n",
       "\n",
       "    .dataframe tbody tr th {\n",
       "        vertical-align: top;\n",
       "    }\n",
       "\n",
       "    .dataframe thead th {\n",
       "        text-align: right;\n",
       "    }\n",
       "</style>\n",
       "<table border=\"1\" class=\"dataframe\">\n",
       "  <thead>\n",
       "    <tr style=\"text-align: right;\">\n",
       "      <th></th>\n",
       "      <th>column 1</th>\n",
       "      <th>column 2</th>\n",
       "      <th>column 3</th>\n",
       "      <th>column 4</th>\n",
       "      <th>column 5</th>\n",
       "      <th>column 6</th>\n",
       "    </tr>\n",
       "  </thead>\n",
       "  <tbody>\n",
       "    <tr>\n",
       "      <th>row 1</th>\n",
       "      <td>0.172644</td>\n",
       "      <td>0.880976</td>\n",
       "      <td>0.630778</td>\n",
       "      <td>0.565046</td>\n",
       "      <td>0.102196</td>\n",
       "      <td>0.781140</td>\n",
       "    </tr>\n",
       "    <tr>\n",
       "      <th>row 2</th>\n",
       "      <td>0.844953</td>\n",
       "      <td>0.856448</td>\n",
       "      <td>0.787565</td>\n",
       "      <td>0.794914</td>\n",
       "      <td>0.341905</td>\n",
       "      <td>0.299681</td>\n",
       "    </tr>\n",
       "    <tr>\n",
       "      <th>row 3</th>\n",
       "      <td>0.266695</td>\n",
       "      <td>0.506362</td>\n",
       "      <td>0.962210</td>\n",
       "      <td>0.292804</td>\n",
       "      <td>0.913965</td>\n",
       "      <td>0.339136</td>\n",
       "    </tr>\n",
       "    <tr>\n",
       "      <th>row 4</th>\n",
       "      <td>0.993921</td>\n",
       "      <td>0.966338</td>\n",
       "      <td>0.048696</td>\n",
       "      <td>0.101195</td>\n",
       "      <td>0.324740</td>\n",
       "      <td>0.026012</td>\n",
       "    </tr>\n",
       "    <tr>\n",
       "      <th>row 5</th>\n",
       "      <td>0.454886</td>\n",
       "      <td>0.156419</td>\n",
       "      <td>0.282431</td>\n",
       "      <td>0.994324</td>\n",
       "      <td>0.169664</td>\n",
       "      <td>0.468198</td>\n",
       "    </tr>\n",
       "    <tr>\n",
       "      <th>row 6</th>\n",
       "      <td>0.333607</td>\n",
       "      <td>0.099506</td>\n",
       "      <td>0.874112</td>\n",
       "      <td>0.347901</td>\n",
       "      <td>0.081145</td>\n",
       "      <td>0.491077</td>\n",
       "    </tr>\n",
       "  </tbody>\n",
       "</table>\n",
       "</div>"
      ],
      "text/plain": [
       "       column 1  column 2  column 3  column 4  column 5  column 6\n",
       "row 1  0.172644  0.880976  0.630778  0.565046  0.102196  0.781140\n",
       "row 2  0.844953  0.856448  0.787565  0.794914  0.341905  0.299681\n",
       "row 3  0.266695  0.506362  0.962210  0.292804  0.913965  0.339136\n",
       "row 4  0.993921  0.966338  0.048696  0.101195  0.324740  0.026012\n",
       "row 5  0.454886  0.156419  0.282431  0.994324  0.169664  0.468198\n",
       "row 6  0.333607  0.099506  0.874112  0.347901  0.081145  0.491077"
      ]
     },
     "execution_count": 187,
     "metadata": {},
     "output_type": "execute_result"
    }
   ],
   "source": [
    "# DataFrame\n",
    "# create label index for a dataframe\n",
    "df_index_row = []\n",
    "df_index_row = index_generator(df_index_row, df_size, 'row')\n",
    "df_index_col = []\n",
    "df_index_col = index_generator(df_index_col, df_size, 'column')\n",
    "\n",
    "# create a DataFrame name 'df_obj'\n",
    "df_obj = DataFrame(\tdata=np.random.rand(36).reshape(6, 6),\n",
    "\t\t\t\t\tindex=df_index_row,\n",
    "\t\t\t\t\tcolumns=df_index_col\n",
    "\t\t)\n",
    "\n",
    "# display the whole series\n",
    "df_obj"
   ]
  },
  {
   "cell_type": "code",
   "execution_count": 188,
   "metadata": {},
   "outputs": [
    {
     "name": "stdout",
     "output_type": "stream",
     "text": [
      "[1, 1]\n",
      "0.1726439237555324\n",
      "\n",
      "\n",
      "entire row 1 and 5\n"
     ]
    },
    {
     "data": {
      "text/html": [
       "<div>\n",
       "<style scoped>\n",
       "    .dataframe tbody tr th:only-of-type {\n",
       "        vertical-align: middle;\n",
       "    }\n",
       "\n",
       "    .dataframe tbody tr th {\n",
       "        vertical-align: top;\n",
       "    }\n",
       "\n",
       "    .dataframe thead th {\n",
       "        text-align: right;\n",
       "    }\n",
       "</style>\n",
       "<table border=\"1\" class=\"dataframe\">\n",
       "  <thead>\n",
       "    <tr style=\"text-align: right;\">\n",
       "      <th></th>\n",
       "      <th>column 1</th>\n",
       "      <th>column 2</th>\n",
       "      <th>column 3</th>\n",
       "      <th>column 4</th>\n",
       "      <th>column 5</th>\n",
       "      <th>column 6</th>\n",
       "    </tr>\n",
       "  </thead>\n",
       "  <tbody>\n",
       "    <tr>\n",
       "      <th>row 1</th>\n",
       "      <td>0.172644</td>\n",
       "      <td>0.880976</td>\n",
       "      <td>0.630778</td>\n",
       "      <td>0.565046</td>\n",
       "      <td>0.102196</td>\n",
       "      <td>0.781140</td>\n",
       "    </tr>\n",
       "    <tr>\n",
       "      <th>row 5</th>\n",
       "      <td>0.454886</td>\n",
       "      <td>0.156419</td>\n",
       "      <td>0.282431</td>\n",
       "      <td>0.994324</td>\n",
       "      <td>0.169664</td>\n",
       "      <td>0.468198</td>\n",
       "    </tr>\n",
       "  </tbody>\n",
       "</table>\n",
       "</div>"
      ],
      "text/plain": [
       "       column 1  column 2  column 3  column 4  column 5  column 6\n",
       "row 1  0.172644  0.880976  0.630778  0.565046  0.102196  0.781140\n",
       "row 5  0.454886  0.156419  0.282431  0.994324  0.169664  0.468198"
      ]
     },
     "execution_count": 188,
     "metadata": {},
     "output_type": "execute_result"
    }
   ],
   "source": [
    "# print the element specified by label index\n",
    "print('[1, 1]')\n",
    "print(df_obj.loc['row 1', 'column 1'])\n",
    "print('\\n')\n",
    "print('entire row 1 and 5')\n",
    "df_obj.loc[['row 1', 'row 5']]"
   ]
  },
  {
   "cell_type": "markdown",
   "metadata": {},
   "source": [
    "<h4>data slicing</h4>\n",
    "<p>to select and return a slice of several values from a data set<br>\n",
    "index with colon ':'\n",
    "</p>"
   ]
  },
  {
   "cell_type": "code",
   "execution_count": 189,
   "metadata": {},
   "outputs": [
    {
     "name": "stdout",
     "output_type": "stream",
     "text": [
      "row 1 - 4\n",
      "row 2    1\n",
      "row 3    2\n",
      "row 4    3\n",
      "row 5    4\n",
      "row 6    5\n",
      "row 7    6\n",
      "dtype: int64\n",
      "\n",
      "\n",
      "row 1, 4, 7\n",
      "row 1    0\n",
      "row 4    3\n",
      "row 7    6\n",
      "dtype: int64\n"
     ]
    }
   ],
   "source": [
    "# data slicing with series\n",
    "print('row 1 - 4')\n",
    "print(series_obj['row 2':'row 7'])\n",
    "print('\\n')\n",
    "print('row 1, 4, 7')\n",
    "print(series_obj[['row 1', 'row 4', 'row 7']])"
   ]
  },
  {
   "cell_type": "markdown",
   "metadata": {},
   "source": [
    "#### comparing w/ scalars"
   ]
  },
  {
   "cell_type": "code",
   "execution_count": 190,
   "metadata": {},
   "outputs": [
    {
     "data": {
      "text/plain": [
       "row 1     True\n",
       "row 2     True\n",
       "row 3    False\n",
       "row 4    False\n",
       "row 5    False\n",
       "row 6    False\n",
       "row 7    False\n",
       "row 8    False\n",
       "dtype: bool"
      ]
     },
     "execution_count": 190,
     "metadata": {},
     "output_type": "execute_result"
    }
   ],
   "source": [
    "# series - to get comparison result (boolean)\n",
    "series_obj < 2"
   ]
  },
  {
   "cell_type": "code",
   "execution_count": 191,
   "metadata": {},
   "outputs": [
    {
     "data": {
      "text/html": [
       "<div>\n",
       "<style scoped>\n",
       "    .dataframe tbody tr th:only-of-type {\n",
       "        vertical-align: middle;\n",
       "    }\n",
       "\n",
       "    .dataframe tbody tr th {\n",
       "        vertical-align: top;\n",
       "    }\n",
       "\n",
       "    .dataframe thead th {\n",
       "        text-align: right;\n",
       "    }\n",
       "</style>\n",
       "<table border=\"1\" class=\"dataframe\">\n",
       "  <thead>\n",
       "    <tr style=\"text-align: right;\">\n",
       "      <th></th>\n",
       "      <th>column 1</th>\n",
       "      <th>column 2</th>\n",
       "      <th>column 3</th>\n",
       "      <th>column 4</th>\n",
       "      <th>column 5</th>\n",
       "      <th>column 6</th>\n",
       "    </tr>\n",
       "  </thead>\n",
       "  <tbody>\n",
       "    <tr>\n",
       "      <th>row 1</th>\n",
       "      <td>True</td>\n",
       "      <td>False</td>\n",
       "      <td>False</td>\n",
       "      <td>False</td>\n",
       "      <td>True</td>\n",
       "      <td>False</td>\n",
       "    </tr>\n",
       "    <tr>\n",
       "      <th>row 2</th>\n",
       "      <td>False</td>\n",
       "      <td>False</td>\n",
       "      <td>False</td>\n",
       "      <td>False</td>\n",
       "      <td>False</td>\n",
       "      <td>False</td>\n",
       "    </tr>\n",
       "    <tr>\n",
       "      <th>row 3</th>\n",
       "      <td>False</td>\n",
       "      <td>False</td>\n",
       "      <td>False</td>\n",
       "      <td>False</td>\n",
       "      <td>False</td>\n",
       "      <td>False</td>\n",
       "    </tr>\n",
       "    <tr>\n",
       "      <th>row 4</th>\n",
       "      <td>False</td>\n",
       "      <td>False</td>\n",
       "      <td>True</td>\n",
       "      <td>True</td>\n",
       "      <td>False</td>\n",
       "      <td>True</td>\n",
       "    </tr>\n",
       "    <tr>\n",
       "      <th>row 5</th>\n",
       "      <td>False</td>\n",
       "      <td>True</td>\n",
       "      <td>False</td>\n",
       "      <td>False</td>\n",
       "      <td>True</td>\n",
       "      <td>False</td>\n",
       "    </tr>\n",
       "    <tr>\n",
       "      <th>row 6</th>\n",
       "      <td>False</td>\n",
       "      <td>True</td>\n",
       "      <td>False</td>\n",
       "      <td>False</td>\n",
       "      <td>True</td>\n",
       "      <td>False</td>\n",
       "    </tr>\n",
       "  </tbody>\n",
       "</table>\n",
       "</div>"
      ],
      "text/plain": [
       "       column 1  column 2  column 3  column 4  column 5  column 6\n",
       "row 1      True     False     False     False      True     False\n",
       "row 2     False     False     False     False     False     False\n",
       "row 3     False     False     False     False     False     False\n",
       "row 4     False     False      True      True     False      True\n",
       "row 5     False      True     False     False      True     False\n",
       "row 6     False      True     False     False      True     False"
      ]
     },
     "execution_count": 191,
     "metadata": {},
     "output_type": "execute_result"
    }
   ],
   "source": [
    "# dataframe - to get comparison result (boolean)\n",
    "df_obj < .2"
   ]
  },
  {
   "cell_type": "markdown",
   "metadata": {},
   "source": [
    "#### filter w/ scalars"
   ]
  },
  {
   "cell_type": "code",
   "execution_count": 192,
   "metadata": {},
   "outputs": [
    {
     "data": {
      "text/plain": [
       "row 4    3\n",
       "row 5    4\n",
       "row 6    5\n",
       "row 7    6\n",
       "row 8    7\n",
       "dtype: int64"
      ]
     },
     "execution_count": 192,
     "metadata": {},
     "output_type": "execute_result"
    }
   ],
   "source": [
    "# series - filter data\n",
    "# series_obj[series_obj > 2] # singular condition\n",
    "series_obj[(2 < series_obj) & (series_obj < 8)] # multiple conditions"
   ]
  },
  {
   "cell_type": "code",
   "execution_count": 193,
   "metadata": {},
   "outputs": [
    {
     "data": {
      "text/html": [
       "<div>\n",
       "<style scoped>\n",
       "    .dataframe tbody tr th:only-of-type {\n",
       "        vertical-align: middle;\n",
       "    }\n",
       "\n",
       "    .dataframe tbody tr th {\n",
       "        vertical-align: top;\n",
       "    }\n",
       "\n",
       "    .dataframe thead th {\n",
       "        text-align: right;\n",
       "    }\n",
       "</style>\n",
       "<table border=\"1\" class=\"dataframe\">\n",
       "  <thead>\n",
       "    <tr style=\"text-align: right;\">\n",
       "      <th></th>\n",
       "      <th>column 1</th>\n",
       "      <th>column 2</th>\n",
       "      <th>column 3</th>\n",
       "      <th>column 4</th>\n",
       "      <th>column 5</th>\n",
       "      <th>column 6</th>\n",
       "    </tr>\n",
       "  </thead>\n",
       "  <tbody>\n",
       "    <tr>\n",
       "      <th>row 1</th>\n",
       "      <td>NaN</td>\n",
       "      <td>NaN</td>\n",
       "      <td>0.630778</td>\n",
       "      <td>0.565046</td>\n",
       "      <td>NaN</td>\n",
       "      <td>0.781140</td>\n",
       "    </tr>\n",
       "    <tr>\n",
       "      <th>row 2</th>\n",
       "      <td>NaN</td>\n",
       "      <td>NaN</td>\n",
       "      <td>0.787565</td>\n",
       "      <td>0.794914</td>\n",
       "      <td>0.341905</td>\n",
       "      <td>0.299681</td>\n",
       "    </tr>\n",
       "    <tr>\n",
       "      <th>row 3</th>\n",
       "      <td>0.266695</td>\n",
       "      <td>0.506362</td>\n",
       "      <td>NaN</td>\n",
       "      <td>0.292804</td>\n",
       "      <td>NaN</td>\n",
       "      <td>0.339136</td>\n",
       "    </tr>\n",
       "    <tr>\n",
       "      <th>row 4</th>\n",
       "      <td>NaN</td>\n",
       "      <td>NaN</td>\n",
       "      <td>NaN</td>\n",
       "      <td>NaN</td>\n",
       "      <td>0.324740</td>\n",
       "      <td>NaN</td>\n",
       "    </tr>\n",
       "    <tr>\n",
       "      <th>row 5</th>\n",
       "      <td>0.454886</td>\n",
       "      <td>NaN</td>\n",
       "      <td>0.282431</td>\n",
       "      <td>NaN</td>\n",
       "      <td>NaN</td>\n",
       "      <td>0.468198</td>\n",
       "    </tr>\n",
       "    <tr>\n",
       "      <th>row 6</th>\n",
       "      <td>0.333607</td>\n",
       "      <td>NaN</td>\n",
       "      <td>NaN</td>\n",
       "      <td>0.347901</td>\n",
       "      <td>NaN</td>\n",
       "      <td>0.491077</td>\n",
       "    </tr>\n",
       "  </tbody>\n",
       "</table>\n",
       "</div>"
      ],
      "text/plain": [
       "       column 1  column 2  column 3  column 4  column 5  column 6\n",
       "row 1       NaN       NaN  0.630778  0.565046       NaN  0.781140\n",
       "row 2       NaN       NaN  0.787565  0.794914  0.341905  0.299681\n",
       "row 3  0.266695  0.506362       NaN  0.292804       NaN  0.339136\n",
       "row 4       NaN       NaN       NaN       NaN  0.324740       NaN\n",
       "row 5  0.454886       NaN  0.282431       NaN       NaN  0.468198\n",
       "row 6  0.333607       NaN       NaN  0.347901       NaN  0.491077"
      ]
     },
     "execution_count": 193,
     "metadata": {},
     "output_type": "execute_result"
    }
   ],
   "source": [
    "# dataframe - filter data\n",
    "# df_obj[df_obj < .2] # singular condition\n",
    "df_obj[(.2 < df_obj) & (df_obj < .8)]"
   ]
  },
  {
   "cell_type": "markdown",
   "metadata": {},
   "source": [
    "#### setting values with scalars"
   ]
  },
  {
   "cell_type": "code",
   "execution_count": 194,
   "metadata": {},
   "outputs": [
    {
     "data": {
      "text/plain": [
       "row 1    20\n",
       "row 2     1\n",
       "row 3    20\n",
       "row 4     3\n",
       "row 5    20\n",
       "row 6     5\n",
       "row 7     6\n",
       "row 8     7\n",
       "dtype: int64"
      ]
     },
     "execution_count": 194,
     "metadata": {},
     "output_type": "execute_result"
    }
   ],
   "source": [
    "# set series w/ new value\n",
    "# series_obj[[0, 2, 4]] = 10\n",
    "series_obj[['row 1', 'row 3', 'row 5']] = 20\n",
    "series_obj"
   ]
  },
  {
   "cell_type": "code",
   "execution_count": 195,
   "metadata": {},
   "outputs": [
    {
     "data": {
      "text/html": [
       "<div>\n",
       "<style scoped>\n",
       "    .dataframe tbody tr th:only-of-type {\n",
       "        vertical-align: middle;\n",
       "    }\n",
       "\n",
       "    .dataframe tbody tr th {\n",
       "        vertical-align: top;\n",
       "    }\n",
       "\n",
       "    .dataframe thead th {\n",
       "        text-align: right;\n",
       "    }\n",
       "</style>\n",
       "<table border=\"1\" class=\"dataframe\">\n",
       "  <thead>\n",
       "    <tr style=\"text-align: right;\">\n",
       "      <th></th>\n",
       "      <th>column 1</th>\n",
       "      <th>column 2</th>\n",
       "      <th>column 3</th>\n",
       "      <th>column 4</th>\n",
       "      <th>column 5</th>\n",
       "      <th>column 6</th>\n",
       "    </tr>\n",
       "  </thead>\n",
       "  <tbody>\n",
       "    <tr>\n",
       "      <th>row 1</th>\n",
       "      <td>20.000000</td>\n",
       "      <td>20.000000</td>\n",
       "      <td>20.000000</td>\n",
       "      <td>20.000000</td>\n",
       "      <td>20.000000</td>\n",
       "      <td>20.000000</td>\n",
       "    </tr>\n",
       "    <tr>\n",
       "      <th>row 2</th>\n",
       "      <td>0.844953</td>\n",
       "      <td>0.856448</td>\n",
       "      <td>0.787565</td>\n",
       "      <td>0.794914</td>\n",
       "      <td>0.341905</td>\n",
       "      <td>0.299681</td>\n",
       "    </tr>\n",
       "    <tr>\n",
       "      <th>row 3</th>\n",
       "      <td>20.000000</td>\n",
       "      <td>20.000000</td>\n",
       "      <td>20.000000</td>\n",
       "      <td>20.000000</td>\n",
       "      <td>20.000000</td>\n",
       "      <td>20.000000</td>\n",
       "    </tr>\n",
       "    <tr>\n",
       "      <th>row 4</th>\n",
       "      <td>0.993921</td>\n",
       "      <td>0.966338</td>\n",
       "      <td>0.048696</td>\n",
       "      <td>0.101195</td>\n",
       "      <td>0.324740</td>\n",
       "      <td>0.026012</td>\n",
       "    </tr>\n",
       "    <tr>\n",
       "      <th>row 5</th>\n",
       "      <td>20.000000</td>\n",
       "      <td>20.000000</td>\n",
       "      <td>20.000000</td>\n",
       "      <td>20.000000</td>\n",
       "      <td>20.000000</td>\n",
       "      <td>20.000000</td>\n",
       "    </tr>\n",
       "    <tr>\n",
       "      <th>row 6</th>\n",
       "      <td>0.333607</td>\n",
       "      <td>0.099506</td>\n",
       "      <td>0.874112</td>\n",
       "      <td>0.347901</td>\n",
       "      <td>0.081145</td>\n",
       "      <td>0.491077</td>\n",
       "    </tr>\n",
       "  </tbody>\n",
       "</table>\n",
       "</div>"
      ],
      "text/plain": [
       "        column 1   column 2   column 3   column 4   column 5   column 6\n",
       "row 1  20.000000  20.000000  20.000000  20.000000  20.000000  20.000000\n",
       "row 2   0.844953   0.856448   0.787565   0.794914   0.341905   0.299681\n",
       "row 3  20.000000  20.000000  20.000000  20.000000  20.000000  20.000000\n",
       "row 4   0.993921   0.966338   0.048696   0.101195   0.324740   0.026012\n",
       "row 5  20.000000  20.000000  20.000000  20.000000  20.000000  20.000000\n",
       "row 6   0.333607   0.099506   0.874112   0.347901   0.081145   0.491077"
      ]
     },
     "execution_count": 195,
     "metadata": {},
     "output_type": "execute_result"
    }
   ],
   "source": [
    "# set df w/ new value\n",
    "df_obj.loc['row 1', 'row 3', 'row 5'] = 20 # to set value to specific elements, identify w/ location always\n",
    "# df_obj['row 1', 'row 3', 'row 5'] = 20 # to run this, you will get 1 new column\n",
    "# df_obj[['row 1', 'row 3', 'row 5']] = 20 # to run this, you will get 3 new columns\n",
    "# df_obj[[0, 2, 4]] = 10 # to run this, you will get 3 new columns\n",
    "df_obj"
   ]
  },
  {
   "cell_type": "markdown",
   "metadata": {},
   "source": [
    "<h4>segment 2 : treating missing values<br>\n",
    "figuring out what data is missing</h4>"
   ]
  },
  {
   "cell_type": "code",
   "execution_count": 196,
   "metadata": {},
   "outputs": [],
   "source": [
    "# set NaN (not a number) variable\n",
    "missing = np.nan"
   ]
  },
  {
   "cell_type": "code",
   "execution_count": 197,
   "metadata": {},
   "outputs": [
    {
     "data": {
      "text/plain": [
       "0    row 1\n",
       "1      NaN\n",
       "2    row 3\n",
       "3      NaN\n",
       "4    row 5\n",
       "dtype: object"
      ]
     },
     "execution_count": 197,
     "metadata": {},
     "output_type": "execute_result"
    }
   ],
   "source": [
    "# Series\n",
    "# create missing-value series\n",
    "missing_series_obj = Series(['row 1', missing, 'row 3', missing, 'row 5'])\n",
    "missing_series_obj"
   ]
  },
  {
   "cell_type": "code",
   "execution_count": 198,
   "metadata": {},
   "outputs": [
    {
     "data": {
      "text/plain": [
       "0    False\n",
       "1     True\n",
       "2    False\n",
       "3     True\n",
       "4    False\n",
       "dtype: bool"
      ]
     },
     "execution_count": 198,
     "metadata": {},
     "output_type": "execute_result"
    }
   ],
   "source": [
    "# check if NaN value\n",
    "missing_series_obj.isnull()"
   ]
  },
  {
   "cell_type": "code",
   "execution_count": 199,
   "metadata": {},
   "outputs": [
    {
     "data": {
      "text/html": [
       "<div>\n",
       "<style scoped>\n",
       "    .dataframe tbody tr th:only-of-type {\n",
       "        vertical-align: middle;\n",
       "    }\n",
       "\n",
       "    .dataframe tbody tr th {\n",
       "        vertical-align: top;\n",
       "    }\n",
       "\n",
       "    .dataframe thead th {\n",
       "        text-align: right;\n",
       "    }\n",
       "</style>\n",
       "<table border=\"1\" class=\"dataframe\">\n",
       "  <thead>\n",
       "    <tr style=\"text-align: right;\">\n",
       "      <th></th>\n",
       "      <th>0</th>\n",
       "      <th>1</th>\n",
       "      <th>2</th>\n",
       "      <th>3</th>\n",
       "      <th>4</th>\n",
       "      <th>5</th>\n",
       "    </tr>\n",
       "  </thead>\n",
       "  <tbody>\n",
       "    <tr>\n",
       "      <th>0</th>\n",
       "      <td>0.402770</td>\n",
       "      <td>0.491169</td>\n",
       "      <td>0.894264</td>\n",
       "      <td>0.982796</td>\n",
       "      <td>0.585815</td>\n",
       "      <td>0.742233</td>\n",
       "    </tr>\n",
       "    <tr>\n",
       "      <th>1</th>\n",
       "      <td>0.344386</td>\n",
       "      <td>0.608874</td>\n",
       "      <td>NaN</td>\n",
       "      <td>0.464905</td>\n",
       "      <td>0.001313</td>\n",
       "      <td>0.538700</td>\n",
       "    </tr>\n",
       "    <tr>\n",
       "      <th>2</th>\n",
       "      <td>0.973034</td>\n",
       "      <td>0.644816</td>\n",
       "      <td>NaN</td>\n",
       "      <td>0.229654</td>\n",
       "      <td>0.829914</td>\n",
       "      <td>NaN</td>\n",
       "    </tr>\n",
       "    <tr>\n",
       "      <th>3</th>\n",
       "      <td>0.770918</td>\n",
       "      <td>0.402980</td>\n",
       "      <td>NaN</td>\n",
       "      <td>0.522905</td>\n",
       "      <td>0.383972</td>\n",
       "      <td>NaN</td>\n",
       "    </tr>\n",
       "    <tr>\n",
       "      <th>4</th>\n",
       "      <td>0.840880</td>\n",
       "      <td>0.133336</td>\n",
       "      <td>0.960375</td>\n",
       "      <td>0.052009</td>\n",
       "      <td>0.390694</td>\n",
       "      <td>NaN</td>\n",
       "    </tr>\n",
       "    <tr>\n",
       "      <th>5</th>\n",
       "      <td>0.388618</td>\n",
       "      <td>0.178984</td>\n",
       "      <td>0.647139</td>\n",
       "      <td>0.315485</td>\n",
       "      <td>0.437872</td>\n",
       "      <td>0.747649</td>\n",
       "    </tr>\n",
       "  </tbody>\n",
       "</table>\n",
       "</div>"
      ],
      "text/plain": [
       "          0         1         2         3         4         5\n",
       "0  0.402770  0.491169  0.894264  0.982796  0.585815  0.742233\n",
       "1  0.344386  0.608874       NaN  0.464905  0.001313  0.538700\n",
       "2  0.973034  0.644816       NaN  0.229654  0.829914       NaN\n",
       "3  0.770918  0.402980       NaN  0.522905  0.383972       NaN\n",
       "4  0.840880  0.133336  0.960375  0.052009  0.390694       NaN\n",
       "5  0.388618  0.178984  0.647139  0.315485  0.437872  0.747649"
      ]
     },
     "execution_count": 199,
     "metadata": {},
     "output_type": "execute_result"
    }
   ],
   "source": [
    "# DataFrame\n",
    "# create missing-value dataframe\n",
    "missing_df_obj = DataFrame(data=np.random.rand(36).reshape(6,6))\n",
    "missing_df_obj.loc[1:3, 2] = missing\n",
    "missing_df_obj.loc[2:4, 5] = missing\n",
    "missing_df_obj"
   ]
  },
  {
   "cell_type": "code",
   "execution_count": 200,
   "metadata": {},
   "outputs": [
    {
     "data": {
      "text/html": [
       "<div>\n",
       "<style scoped>\n",
       "    .dataframe tbody tr th:only-of-type {\n",
       "        vertical-align: middle;\n",
       "    }\n",
       "\n",
       "    .dataframe tbody tr th {\n",
       "        vertical-align: top;\n",
       "    }\n",
       "\n",
       "    .dataframe thead th {\n",
       "        text-align: right;\n",
       "    }\n",
       "</style>\n",
       "<table border=\"1\" class=\"dataframe\">\n",
       "  <thead>\n",
       "    <tr style=\"text-align: right;\">\n",
       "      <th></th>\n",
       "      <th>0</th>\n",
       "      <th>1</th>\n",
       "      <th>2</th>\n",
       "      <th>3</th>\n",
       "      <th>4</th>\n",
       "      <th>5</th>\n",
       "    </tr>\n",
       "  </thead>\n",
       "  <tbody>\n",
       "    <tr>\n",
       "      <th>0</th>\n",
       "      <td>False</td>\n",
       "      <td>False</td>\n",
       "      <td>False</td>\n",
       "      <td>False</td>\n",
       "      <td>False</td>\n",
       "      <td>False</td>\n",
       "    </tr>\n",
       "    <tr>\n",
       "      <th>1</th>\n",
       "      <td>False</td>\n",
       "      <td>False</td>\n",
       "      <td>True</td>\n",
       "      <td>False</td>\n",
       "      <td>False</td>\n",
       "      <td>False</td>\n",
       "    </tr>\n",
       "    <tr>\n",
       "      <th>2</th>\n",
       "      <td>False</td>\n",
       "      <td>False</td>\n",
       "      <td>True</td>\n",
       "      <td>False</td>\n",
       "      <td>False</td>\n",
       "      <td>True</td>\n",
       "    </tr>\n",
       "    <tr>\n",
       "      <th>3</th>\n",
       "      <td>False</td>\n",
       "      <td>False</td>\n",
       "      <td>True</td>\n",
       "      <td>False</td>\n",
       "      <td>False</td>\n",
       "      <td>True</td>\n",
       "    </tr>\n",
       "    <tr>\n",
       "      <th>4</th>\n",
       "      <td>False</td>\n",
       "      <td>False</td>\n",
       "      <td>False</td>\n",
       "      <td>False</td>\n",
       "      <td>False</td>\n",
       "      <td>True</td>\n",
       "    </tr>\n",
       "    <tr>\n",
       "      <th>5</th>\n",
       "      <td>False</td>\n",
       "      <td>False</td>\n",
       "      <td>False</td>\n",
       "      <td>False</td>\n",
       "      <td>False</td>\n",
       "      <td>False</td>\n",
       "    </tr>\n",
       "  </tbody>\n",
       "</table>\n",
       "</div>"
      ],
      "text/plain": [
       "       0      1      2      3      4      5\n",
       "0  False  False  False  False  False  False\n",
       "1  False  False   True  False  False  False\n",
       "2  False  False   True  False  False   True\n",
       "3  False  False   True  False  False   True\n",
       "4  False  False  False  False  False   True\n",
       "5  False  False  False  False  False  False"
      ]
     },
     "execution_count": 200,
     "metadata": {},
     "output_type": "execute_result"
    }
   ],
   "source": [
    "# check if NaN value\n",
    "missing_df_obj.isnull()"
   ]
  },
  {
   "cell_type": "markdown",
   "metadata": {},
   "source": [
    "<h4>filling in for missing values</h4>"
   ]
  },
  {
   "cell_type": "code",
   "execution_count": 201,
   "metadata": {},
   "outputs": [
    {
     "data": {
      "text/plain": [
       "0    row 1\n",
       "1        0\n",
       "2    row 3\n",
       "3        0\n",
       "4    row 5\n",
       "dtype: object"
      ]
     },
     "execution_count": 201,
     "metadata": {},
     "output_type": "execute_result"
    }
   ],
   "source": [
    "# Series\n",
    "# fill NaN w/ 0\n",
    "filled_series_obj = missing_series_obj.fillna(0)\n",
    "filled_series_obj"
   ]
  },
  {
   "cell_type": "code",
   "execution_count": 204,
   "metadata": {},
   "outputs": [
    {
     "data": {
      "text/html": [
       "<div>\n",
       "<style scoped>\n",
       "    .dataframe tbody tr th:only-of-type {\n",
       "        vertical-align: middle;\n",
       "    }\n",
       "\n",
       "    .dataframe tbody tr th {\n",
       "        vertical-align: top;\n",
       "    }\n",
       "\n",
       "    .dataframe thead th {\n",
       "        text-align: right;\n",
       "    }\n",
       "</style>\n",
       "<table border=\"1\" class=\"dataframe\">\n",
       "  <thead>\n",
       "    <tr style=\"text-align: right;\">\n",
       "      <th></th>\n",
       "      <th>0</th>\n",
       "      <th>1</th>\n",
       "      <th>2</th>\n",
       "      <th>3</th>\n",
       "      <th>4</th>\n",
       "      <th>5</th>\n",
       "    </tr>\n",
       "  </thead>\n",
       "  <tbody>\n",
       "    <tr>\n",
       "      <th>0</th>\n",
       "      <td>0.402770</td>\n",
       "      <td>0.491169</td>\n",
       "      <td>0.894264</td>\n",
       "      <td>0.982796</td>\n",
       "      <td>0.585815</td>\n",
       "      <td>0.742233</td>\n",
       "    </tr>\n",
       "    <tr>\n",
       "      <th>1</th>\n",
       "      <td>0.344386</td>\n",
       "      <td>0.608874</td>\n",
       "      <td>1.500000</td>\n",
       "      <td>0.464905</td>\n",
       "      <td>0.001313</td>\n",
       "      <td>0.538700</td>\n",
       "    </tr>\n",
       "    <tr>\n",
       "      <th>2</th>\n",
       "      <td>0.973034</td>\n",
       "      <td>0.644816</td>\n",
       "      <td>1.500000</td>\n",
       "      <td>0.229654</td>\n",
       "      <td>0.829914</td>\n",
       "      <td>2.000000</td>\n",
       "    </tr>\n",
       "    <tr>\n",
       "      <th>3</th>\n",
       "      <td>0.770918</td>\n",
       "      <td>0.402980</td>\n",
       "      <td>1.500000</td>\n",
       "      <td>0.522905</td>\n",
       "      <td>0.383972</td>\n",
       "      <td>2.000000</td>\n",
       "    </tr>\n",
       "    <tr>\n",
       "      <th>4</th>\n",
       "      <td>0.840880</td>\n",
       "      <td>0.133336</td>\n",
       "      <td>0.960375</td>\n",
       "      <td>0.052009</td>\n",
       "      <td>0.390694</td>\n",
       "      <td>2.000000</td>\n",
       "    </tr>\n",
       "    <tr>\n",
       "      <th>5</th>\n",
       "      <td>0.388618</td>\n",
       "      <td>0.178984</td>\n",
       "      <td>0.647139</td>\n",
       "      <td>0.315485</td>\n",
       "      <td>0.437872</td>\n",
       "      <td>0.747649</td>\n",
       "    </tr>\n",
       "  </tbody>\n",
       "</table>\n",
       "</div>"
      ],
      "text/plain": [
       "          0         1         2         3         4         5\n",
       "0  0.402770  0.491169  0.894264  0.982796  0.585815  0.742233\n",
       "1  0.344386  0.608874  1.500000  0.464905  0.001313  0.538700\n",
       "2  0.973034  0.644816  1.500000  0.229654  0.829914  2.000000\n",
       "3  0.770918  0.402980  1.500000  0.522905  0.383972  2.000000\n",
       "4  0.840880  0.133336  0.960375  0.052009  0.390694  2.000000\n",
       "5  0.388618  0.178984  0.647139  0.315485  0.437872  0.747649"
      ]
     },
     "execution_count": 204,
     "metadata": {},
     "output_type": "execute_result"
    }
   ],
   "source": [
    "# DataFrame\n",
    "# fill NaN w/ 0\n",
    "# filled_df_obj = missing_df_obj.fillna(0)\n",
    "filled_df_obj = missing_df_obj.fillna({0: 0.1, 2: 1.5, 5: 2.0}) # if specified location is no NaN, then do nothing\n",
    "filled_df_obj"
   ]
  }
 ],
 "metadata": {
  "kernelspec": {
   "display_name": "Python 3.11.0 64-bit",
   "language": "python",
   "name": "python3"
  },
  "language_info": {
   "codemirror_mode": {
    "name": "ipython",
    "version": 3
   },
   "file_extension": ".py",
   "mimetype": "text/x-python",
   "name": "python",
   "nbconvert_exporter": "python",
   "pygments_lexer": "ipython3",
   "version": "3.11.0"
  },
  "orig_nbformat": 4,
  "vscode": {
   "interpreter": {
    "hash": "aee8b7b246df8f9039afb4144a1f6fd8d2ca17a180786b69acc140d282b71a49"
   }
  }
 },
 "nbformat": 4,
 "nbformat_minor": 2
}
