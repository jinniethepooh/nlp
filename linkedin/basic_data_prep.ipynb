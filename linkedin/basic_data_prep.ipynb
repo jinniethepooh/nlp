{
 "cells": [
  {
   "cell_type": "markdown",
   "metadata": {},
   "source": [
    "<h1>basic data preparation</h1>\n",
    "<h4>segment 1 : filtering and selecting data</h4>"
   ]
  },
  {
   "cell_type": "code",
   "execution_count": 215,
   "metadata": {},
   "outputs": [],
   "source": [
    "# import library\n",
    "import numpy as np\n",
    "import pandas as pd\n",
    "\n",
    "from pandas import Series, DataFrame"
   ]
  },
  {
   "cell_type": "markdown",
   "metadata": {},
   "source": [
    "<h4>selecting and retrieving data</h4>\n",
    "<p>index value : label or integer index</p>"
   ]
  },
  {
   "cell_type": "code",
   "execution_count": 216,
   "metadata": {},
   "outputs": [
    {
     "data": {
      "text/plain": [
       "['row 1', 'row 2', 'row 3', 'row 4', 'row 5', 'row 6', 'row 7', 'row 8']"
      ]
     },
     "execution_count": 216,
     "metadata": {},
     "output_type": "execute_result"
    }
   ],
   "source": [
    "# declare in used variables\n",
    "# size of stuff we would like to create\n",
    "series_size = 8\n",
    "df_size = 6\n",
    "\n",
    "# define the function used for generating the index list\n",
    "def index_generator(index_list, size, name) -> list:\n",
    "\tfor i in range(size):\n",
    "\t\tindex_list.append(name + ' ' + str(i + 1))\n",
    "\treturn index_list\n",
    "\n",
    "# create label index for a series\n",
    "label_index = []\n",
    "label_index = index_generator(label_index, series_size, 'row')\n",
    "\n",
    "label_index"
   ]
  },
  {
   "cell_type": "code",
   "execution_count": 217,
   "metadata": {},
   "outputs": [
    {
     "data": {
      "text/plain": [
       "row 1    0\n",
       "row 2    1\n",
       "row 3    2\n",
       "row 4    3\n",
       "row 5    4\n",
       "row 6    5\n",
       "row 7    6\n",
       "row 8    7\n",
       "dtype: int64"
      ]
     },
     "execution_count": 217,
     "metadata": {},
     "output_type": "execute_result"
    }
   ],
   "source": [
    "# Series\n",
    "# create a series name 'series_obj' with label index\n",
    "series_obj = Series(np.arange(series_size), index=label_index)\n",
    "\n",
    "# display the whole series\n",
    "series_obj"
   ]
  },
  {
   "cell_type": "code",
   "execution_count": 218,
   "metadata": {},
   "outputs": [
    {
     "name": "stdout",
     "output_type": "stream",
     "text": [
      "5\n",
      "row 6    5\n",
      "row 1    0\n",
      "dtype: int64\n"
     ]
    }
   ],
   "source": [
    "# print the element specified by label index\n",
    "print(series_obj['row 6'])\n",
    "print(series_obj[['row 6', 'row 1']])"
   ]
  },
  {
   "cell_type": "code",
   "execution_count": 219,
   "metadata": {},
   "outputs": [
    {
     "name": "stdout",
     "output_type": "stream",
     "text": [
      "0\n",
      "7\n",
      "row 1    0\n",
      "row 8    7\n",
      "dtype: int64\n"
     ]
    }
   ],
   "source": [
    "# print the element specified by integer index\n",
    "print(series_obj[0])\n",
    "print(series_obj[7])\n",
    "print(series_obj[[0, 7]])"
   ]
  },
  {
   "cell_type": "code",
   "execution_count": 220,
   "metadata": {},
   "outputs": [
    {
     "data": {
      "text/html": [
       "<div>\n",
       "<style scoped>\n",
       "    .dataframe tbody tr th:only-of-type {\n",
       "        vertical-align: middle;\n",
       "    }\n",
       "\n",
       "    .dataframe tbody tr th {\n",
       "        vertical-align: top;\n",
       "    }\n",
       "\n",
       "    .dataframe thead th {\n",
       "        text-align: right;\n",
       "    }\n",
       "</style>\n",
       "<table border=\"1\" class=\"dataframe\">\n",
       "  <thead>\n",
       "    <tr style=\"text-align: right;\">\n",
       "      <th></th>\n",
       "      <th>column 1</th>\n",
       "      <th>column 2</th>\n",
       "      <th>column 3</th>\n",
       "      <th>column 4</th>\n",
       "      <th>column 5</th>\n",
       "      <th>column 6</th>\n",
       "    </tr>\n",
       "  </thead>\n",
       "  <tbody>\n",
       "    <tr>\n",
       "      <th>row 1</th>\n",
       "      <td>0.811191</td>\n",
       "      <td>0.828801</td>\n",
       "      <td>0.735573</td>\n",
       "      <td>0.734083</td>\n",
       "      <td>0.229320</td>\n",
       "      <td>0.801979</td>\n",
       "    </tr>\n",
       "    <tr>\n",
       "      <th>row 2</th>\n",
       "      <td>0.782270</td>\n",
       "      <td>0.914135</td>\n",
       "      <td>0.270392</td>\n",
       "      <td>0.490882</td>\n",
       "      <td>0.867356</td>\n",
       "      <td>0.687255</td>\n",
       "    </tr>\n",
       "    <tr>\n",
       "      <th>row 3</th>\n",
       "      <td>0.655433</td>\n",
       "      <td>0.323452</td>\n",
       "      <td>0.132734</td>\n",
       "      <td>0.767855</td>\n",
       "      <td>0.691631</td>\n",
       "      <td>0.131161</td>\n",
       "    </tr>\n",
       "    <tr>\n",
       "      <th>row 4</th>\n",
       "      <td>0.693211</td>\n",
       "      <td>0.016726</td>\n",
       "      <td>0.034111</td>\n",
       "      <td>0.852397</td>\n",
       "      <td>0.890409</td>\n",
       "      <td>0.059667</td>\n",
       "    </tr>\n",
       "    <tr>\n",
       "      <th>row 5</th>\n",
       "      <td>0.737218</td>\n",
       "      <td>0.115858</td>\n",
       "      <td>0.880181</td>\n",
       "      <td>0.617847</td>\n",
       "      <td>0.152625</td>\n",
       "      <td>0.915049</td>\n",
       "    </tr>\n",
       "    <tr>\n",
       "      <th>row 6</th>\n",
       "      <td>0.200163</td>\n",
       "      <td>0.218864</td>\n",
       "      <td>0.375681</td>\n",
       "      <td>0.647134</td>\n",
       "      <td>0.972965</td>\n",
       "      <td>0.324497</td>\n",
       "    </tr>\n",
       "  </tbody>\n",
       "</table>\n",
       "</div>"
      ],
      "text/plain": [
       "       column 1  column 2  column 3  column 4  column 5  column 6\n",
       "row 1  0.811191  0.828801  0.735573  0.734083  0.229320  0.801979\n",
       "row 2  0.782270  0.914135  0.270392  0.490882  0.867356  0.687255\n",
       "row 3  0.655433  0.323452  0.132734  0.767855  0.691631  0.131161\n",
       "row 4  0.693211  0.016726  0.034111  0.852397  0.890409  0.059667\n",
       "row 5  0.737218  0.115858  0.880181  0.617847  0.152625  0.915049\n",
       "row 6  0.200163  0.218864  0.375681  0.647134  0.972965  0.324497"
      ]
     },
     "execution_count": 220,
     "metadata": {},
     "output_type": "execute_result"
    }
   ],
   "source": [
    "# DataFrame\n",
    "# create label index for a dataframe\n",
    "df_index_row = []\n",
    "df_index_row = index_generator(df_index_row, df_size, 'row')\n",
    "df_index_col = []\n",
    "df_index_col = index_generator(df_index_col, df_size, 'column')\n",
    "\n",
    "# create a DataFrame name 'df_obj'\n",
    "df_obj = DataFrame(\tdata=np.random.rand(36).reshape(6, 6),\n",
    "\t\t\t\t\tindex=df_index_row,\n",
    "\t\t\t\t\tcolumns=df_index_col\n",
    "\t\t)\n",
    "\n",
    "# display the whole series\n",
    "df_obj"
   ]
  },
  {
   "cell_type": "code",
   "execution_count": 221,
   "metadata": {},
   "outputs": [
    {
     "name": "stdout",
     "output_type": "stream",
     "text": [
      "[1, 1]\n",
      "0.8111912227430844\n",
      "\n",
      "\n",
      "entire row 1 and 5\n"
     ]
    },
    {
     "data": {
      "text/html": [
       "<div>\n",
       "<style scoped>\n",
       "    .dataframe tbody tr th:only-of-type {\n",
       "        vertical-align: middle;\n",
       "    }\n",
       "\n",
       "    .dataframe tbody tr th {\n",
       "        vertical-align: top;\n",
       "    }\n",
       "\n",
       "    .dataframe thead th {\n",
       "        text-align: right;\n",
       "    }\n",
       "</style>\n",
       "<table border=\"1\" class=\"dataframe\">\n",
       "  <thead>\n",
       "    <tr style=\"text-align: right;\">\n",
       "      <th></th>\n",
       "      <th>column 1</th>\n",
       "      <th>column 2</th>\n",
       "      <th>column 3</th>\n",
       "      <th>column 4</th>\n",
       "      <th>column 5</th>\n",
       "      <th>column 6</th>\n",
       "    </tr>\n",
       "  </thead>\n",
       "  <tbody>\n",
       "    <tr>\n",
       "      <th>row 1</th>\n",
       "      <td>0.811191</td>\n",
       "      <td>0.828801</td>\n",
       "      <td>0.735573</td>\n",
       "      <td>0.734083</td>\n",
       "      <td>0.229320</td>\n",
       "      <td>0.801979</td>\n",
       "    </tr>\n",
       "    <tr>\n",
       "      <th>row 5</th>\n",
       "      <td>0.737218</td>\n",
       "      <td>0.115858</td>\n",
       "      <td>0.880181</td>\n",
       "      <td>0.617847</td>\n",
       "      <td>0.152625</td>\n",
       "      <td>0.915049</td>\n",
       "    </tr>\n",
       "  </tbody>\n",
       "</table>\n",
       "</div>"
      ],
      "text/plain": [
       "       column 1  column 2  column 3  column 4  column 5  column 6\n",
       "row 1  0.811191  0.828801  0.735573  0.734083  0.229320  0.801979\n",
       "row 5  0.737218  0.115858  0.880181  0.617847  0.152625  0.915049"
      ]
     },
     "execution_count": 221,
     "metadata": {},
     "output_type": "execute_result"
    }
   ],
   "source": [
    "# print the element specified by label index\n",
    "print('[1, 1]')\n",
    "print(df_obj.loc['row 1', 'column 1'])\n",
    "print('\\n')\n",
    "print('entire row 1 and 5')\n",
    "df_obj.loc[['row 1', 'row 5']]"
   ]
  },
  {
   "cell_type": "markdown",
   "metadata": {},
   "source": [
    "<h4>data slicing</h4>\n",
    "<p>to select and return a slice of several values from a data set<br>\n",
    "index with colon ':'\n",
    "</p>"
   ]
  },
  {
   "cell_type": "code",
   "execution_count": 222,
   "metadata": {},
   "outputs": [
    {
     "name": "stdout",
     "output_type": "stream",
     "text": [
      "row 1 - 4\n",
      "row 2    1\n",
      "row 3    2\n",
      "row 4    3\n",
      "row 5    4\n",
      "row 6    5\n",
      "row 7    6\n",
      "dtype: int64\n",
      "\n",
      "\n",
      "row 1, 4, 7\n",
      "row 1    0\n",
      "row 4    3\n",
      "row 7    6\n",
      "dtype: int64\n"
     ]
    }
   ],
   "source": [
    "# data slicing with series\n",
    "print('row 1 - 4')\n",
    "print(series_obj['row 2':'row 7'])\n",
    "print('\\n')\n",
    "print('row 1, 4, 7')\n",
    "print(series_obj[['row 1', 'row 4', 'row 7']])"
   ]
  },
  {
   "cell_type": "markdown",
   "metadata": {},
   "source": [
    "#### comparing w/ scalars"
   ]
  },
  {
   "cell_type": "code",
   "execution_count": 223,
   "metadata": {},
   "outputs": [
    {
     "data": {
      "text/plain": [
       "row 1     True\n",
       "row 2     True\n",
       "row 3    False\n",
       "row 4    False\n",
       "row 5    False\n",
       "row 6    False\n",
       "row 7    False\n",
       "row 8    False\n",
       "dtype: bool"
      ]
     },
     "execution_count": 223,
     "metadata": {},
     "output_type": "execute_result"
    }
   ],
   "source": [
    "# series - to get comparison result (boolean)\n",
    "series_obj < 2"
   ]
  },
  {
   "cell_type": "code",
   "execution_count": 224,
   "metadata": {},
   "outputs": [
    {
     "data": {
      "text/html": [
       "<div>\n",
       "<style scoped>\n",
       "    .dataframe tbody tr th:only-of-type {\n",
       "        vertical-align: middle;\n",
       "    }\n",
       "\n",
       "    .dataframe tbody tr th {\n",
       "        vertical-align: top;\n",
       "    }\n",
       "\n",
       "    .dataframe thead th {\n",
       "        text-align: right;\n",
       "    }\n",
       "</style>\n",
       "<table border=\"1\" class=\"dataframe\">\n",
       "  <thead>\n",
       "    <tr style=\"text-align: right;\">\n",
       "      <th></th>\n",
       "      <th>column 1</th>\n",
       "      <th>column 2</th>\n",
       "      <th>column 3</th>\n",
       "      <th>column 4</th>\n",
       "      <th>column 5</th>\n",
       "      <th>column 6</th>\n",
       "    </tr>\n",
       "  </thead>\n",
       "  <tbody>\n",
       "    <tr>\n",
       "      <th>row 1</th>\n",
       "      <td>False</td>\n",
       "      <td>False</td>\n",
       "      <td>False</td>\n",
       "      <td>False</td>\n",
       "      <td>False</td>\n",
       "      <td>False</td>\n",
       "    </tr>\n",
       "    <tr>\n",
       "      <th>row 2</th>\n",
       "      <td>False</td>\n",
       "      <td>False</td>\n",
       "      <td>False</td>\n",
       "      <td>False</td>\n",
       "      <td>False</td>\n",
       "      <td>False</td>\n",
       "    </tr>\n",
       "    <tr>\n",
       "      <th>row 3</th>\n",
       "      <td>False</td>\n",
       "      <td>False</td>\n",
       "      <td>True</td>\n",
       "      <td>False</td>\n",
       "      <td>False</td>\n",
       "      <td>True</td>\n",
       "    </tr>\n",
       "    <tr>\n",
       "      <th>row 4</th>\n",
       "      <td>False</td>\n",
       "      <td>True</td>\n",
       "      <td>True</td>\n",
       "      <td>False</td>\n",
       "      <td>False</td>\n",
       "      <td>True</td>\n",
       "    </tr>\n",
       "    <tr>\n",
       "      <th>row 5</th>\n",
       "      <td>False</td>\n",
       "      <td>True</td>\n",
       "      <td>False</td>\n",
       "      <td>False</td>\n",
       "      <td>True</td>\n",
       "      <td>False</td>\n",
       "    </tr>\n",
       "    <tr>\n",
       "      <th>row 6</th>\n",
       "      <td>False</td>\n",
       "      <td>False</td>\n",
       "      <td>False</td>\n",
       "      <td>False</td>\n",
       "      <td>False</td>\n",
       "      <td>False</td>\n",
       "    </tr>\n",
       "  </tbody>\n",
       "</table>\n",
       "</div>"
      ],
      "text/plain": [
       "       column 1  column 2  column 3  column 4  column 5  column 6\n",
       "row 1     False     False     False     False     False     False\n",
       "row 2     False     False     False     False     False     False\n",
       "row 3     False     False      True     False     False      True\n",
       "row 4     False      True      True     False     False      True\n",
       "row 5     False      True     False     False      True     False\n",
       "row 6     False     False     False     False     False     False"
      ]
     },
     "execution_count": 224,
     "metadata": {},
     "output_type": "execute_result"
    }
   ],
   "source": [
    "# dataframe - to get comparison result (boolean)\n",
    "df_obj < .2"
   ]
  },
  {
   "cell_type": "markdown",
   "metadata": {},
   "source": [
    "#### filter w/ scalars"
   ]
  },
  {
   "cell_type": "code",
   "execution_count": 225,
   "metadata": {},
   "outputs": [
    {
     "data": {
      "text/plain": [
       "row 4    3\n",
       "row 5    4\n",
       "row 6    5\n",
       "row 7    6\n",
       "row 8    7\n",
       "dtype: int64"
      ]
     },
     "execution_count": 225,
     "metadata": {},
     "output_type": "execute_result"
    }
   ],
   "source": [
    "# series - filter data\n",
    "# series_obj[series_obj > 2] # singular condition\n",
    "series_obj[(2 < series_obj) & (series_obj < 8)] # multiple conditions"
   ]
  },
  {
   "cell_type": "code",
   "execution_count": 226,
   "metadata": {},
   "outputs": [
    {
     "data": {
      "text/html": [
       "<div>\n",
       "<style scoped>\n",
       "    .dataframe tbody tr th:only-of-type {\n",
       "        vertical-align: middle;\n",
       "    }\n",
       "\n",
       "    .dataframe tbody tr th {\n",
       "        vertical-align: top;\n",
       "    }\n",
       "\n",
       "    .dataframe thead th {\n",
       "        text-align: right;\n",
       "    }\n",
       "</style>\n",
       "<table border=\"1\" class=\"dataframe\">\n",
       "  <thead>\n",
       "    <tr style=\"text-align: right;\">\n",
       "      <th></th>\n",
       "      <th>column 1</th>\n",
       "      <th>column 2</th>\n",
       "      <th>column 3</th>\n",
       "      <th>column 4</th>\n",
       "      <th>column 5</th>\n",
       "      <th>column 6</th>\n",
       "    </tr>\n",
       "  </thead>\n",
       "  <tbody>\n",
       "    <tr>\n",
       "      <th>row 1</th>\n",
       "      <td>NaN</td>\n",
       "      <td>NaN</td>\n",
       "      <td>0.735573</td>\n",
       "      <td>0.734083</td>\n",
       "      <td>0.229320</td>\n",
       "      <td>NaN</td>\n",
       "    </tr>\n",
       "    <tr>\n",
       "      <th>row 2</th>\n",
       "      <td>0.782270</td>\n",
       "      <td>NaN</td>\n",
       "      <td>0.270392</td>\n",
       "      <td>0.490882</td>\n",
       "      <td>NaN</td>\n",
       "      <td>0.687255</td>\n",
       "    </tr>\n",
       "    <tr>\n",
       "      <th>row 3</th>\n",
       "      <td>0.655433</td>\n",
       "      <td>0.323452</td>\n",
       "      <td>NaN</td>\n",
       "      <td>0.767855</td>\n",
       "      <td>0.691631</td>\n",
       "      <td>NaN</td>\n",
       "    </tr>\n",
       "    <tr>\n",
       "      <th>row 4</th>\n",
       "      <td>0.693211</td>\n",
       "      <td>NaN</td>\n",
       "      <td>NaN</td>\n",
       "      <td>NaN</td>\n",
       "      <td>NaN</td>\n",
       "      <td>NaN</td>\n",
       "    </tr>\n",
       "    <tr>\n",
       "      <th>row 5</th>\n",
       "      <td>0.737218</td>\n",
       "      <td>NaN</td>\n",
       "      <td>NaN</td>\n",
       "      <td>0.617847</td>\n",
       "      <td>NaN</td>\n",
       "      <td>NaN</td>\n",
       "    </tr>\n",
       "    <tr>\n",
       "      <th>row 6</th>\n",
       "      <td>0.200163</td>\n",
       "      <td>0.218864</td>\n",
       "      <td>0.375681</td>\n",
       "      <td>0.647134</td>\n",
       "      <td>NaN</td>\n",
       "      <td>0.324497</td>\n",
       "    </tr>\n",
       "  </tbody>\n",
       "</table>\n",
       "</div>"
      ],
      "text/plain": [
       "       column 1  column 2  column 3  column 4  column 5  column 6\n",
       "row 1       NaN       NaN  0.735573  0.734083  0.229320       NaN\n",
       "row 2  0.782270       NaN  0.270392  0.490882       NaN  0.687255\n",
       "row 3  0.655433  0.323452       NaN  0.767855  0.691631       NaN\n",
       "row 4  0.693211       NaN       NaN       NaN       NaN       NaN\n",
       "row 5  0.737218       NaN       NaN  0.617847       NaN       NaN\n",
       "row 6  0.200163  0.218864  0.375681  0.647134       NaN  0.324497"
      ]
     },
     "execution_count": 226,
     "metadata": {},
     "output_type": "execute_result"
    }
   ],
   "source": [
    "# dataframe - filter data\n",
    "# df_obj[df_obj < .2] # singular condition\n",
    "df_obj[(.2 < df_obj) & (df_obj < .8)]"
   ]
  },
  {
   "cell_type": "markdown",
   "metadata": {},
   "source": [
    "#### setting values with scalars"
   ]
  },
  {
   "cell_type": "code",
   "execution_count": 227,
   "metadata": {},
   "outputs": [
    {
     "data": {
      "text/plain": [
       "row 1    20\n",
       "row 2     1\n",
       "row 3    20\n",
       "row 4     3\n",
       "row 5    20\n",
       "row 6     5\n",
       "row 7     6\n",
       "row 8     7\n",
       "dtype: int64"
      ]
     },
     "execution_count": 227,
     "metadata": {},
     "output_type": "execute_result"
    }
   ],
   "source": [
    "# set series w/ new value\n",
    "# series_obj[[0, 2, 4]] = 10\n",
    "series_obj[['row 1', 'row 3', 'row 5']] = 20\n",
    "series_obj"
   ]
  },
  {
   "cell_type": "code",
   "execution_count": 228,
   "metadata": {},
   "outputs": [
    {
     "data": {
      "text/html": [
       "<div>\n",
       "<style scoped>\n",
       "    .dataframe tbody tr th:only-of-type {\n",
       "        vertical-align: middle;\n",
       "    }\n",
       "\n",
       "    .dataframe tbody tr th {\n",
       "        vertical-align: top;\n",
       "    }\n",
       "\n",
       "    .dataframe thead th {\n",
       "        text-align: right;\n",
       "    }\n",
       "</style>\n",
       "<table border=\"1\" class=\"dataframe\">\n",
       "  <thead>\n",
       "    <tr style=\"text-align: right;\">\n",
       "      <th></th>\n",
       "      <th>column 1</th>\n",
       "      <th>column 2</th>\n",
       "      <th>column 3</th>\n",
       "      <th>column 4</th>\n",
       "      <th>column 5</th>\n",
       "      <th>column 6</th>\n",
       "    </tr>\n",
       "  </thead>\n",
       "  <tbody>\n",
       "    <tr>\n",
       "      <th>row 1</th>\n",
       "      <td>20.000000</td>\n",
       "      <td>20.000000</td>\n",
       "      <td>20.000000</td>\n",
       "      <td>20.000000</td>\n",
       "      <td>20.000000</td>\n",
       "      <td>20.000000</td>\n",
       "    </tr>\n",
       "    <tr>\n",
       "      <th>row 2</th>\n",
       "      <td>0.782270</td>\n",
       "      <td>0.914135</td>\n",
       "      <td>0.270392</td>\n",
       "      <td>0.490882</td>\n",
       "      <td>0.867356</td>\n",
       "      <td>0.687255</td>\n",
       "    </tr>\n",
       "    <tr>\n",
       "      <th>row 3</th>\n",
       "      <td>20.000000</td>\n",
       "      <td>20.000000</td>\n",
       "      <td>20.000000</td>\n",
       "      <td>20.000000</td>\n",
       "      <td>20.000000</td>\n",
       "      <td>20.000000</td>\n",
       "    </tr>\n",
       "    <tr>\n",
       "      <th>row 4</th>\n",
       "      <td>0.693211</td>\n",
       "      <td>0.016726</td>\n",
       "      <td>0.034111</td>\n",
       "      <td>0.852397</td>\n",
       "      <td>0.890409</td>\n",
       "      <td>0.059667</td>\n",
       "    </tr>\n",
       "    <tr>\n",
       "      <th>row 5</th>\n",
       "      <td>20.000000</td>\n",
       "      <td>20.000000</td>\n",
       "      <td>20.000000</td>\n",
       "      <td>20.000000</td>\n",
       "      <td>20.000000</td>\n",
       "      <td>20.000000</td>\n",
       "    </tr>\n",
       "    <tr>\n",
       "      <th>row 6</th>\n",
       "      <td>0.200163</td>\n",
       "      <td>0.218864</td>\n",
       "      <td>0.375681</td>\n",
       "      <td>0.647134</td>\n",
       "      <td>0.972965</td>\n",
       "      <td>0.324497</td>\n",
       "    </tr>\n",
       "  </tbody>\n",
       "</table>\n",
       "</div>"
      ],
      "text/plain": [
       "        column 1   column 2   column 3   column 4   column 5   column 6\n",
       "row 1  20.000000  20.000000  20.000000  20.000000  20.000000  20.000000\n",
       "row 2   0.782270   0.914135   0.270392   0.490882   0.867356   0.687255\n",
       "row 3  20.000000  20.000000  20.000000  20.000000  20.000000  20.000000\n",
       "row 4   0.693211   0.016726   0.034111   0.852397   0.890409   0.059667\n",
       "row 5  20.000000  20.000000  20.000000  20.000000  20.000000  20.000000\n",
       "row 6   0.200163   0.218864   0.375681   0.647134   0.972965   0.324497"
      ]
     },
     "execution_count": 228,
     "metadata": {},
     "output_type": "execute_result"
    }
   ],
   "source": [
    "# set df w/ new value\n",
    "df_obj.loc['row 1', 'row 3', 'row 5'] = 20 # to set value to specific elements, identify w/ location always\n",
    "# df_obj['row 1', 'row 3', 'row 5'] = 20 # to run this, you will get 1 new column\n",
    "# df_obj[['row 1', 'row 3', 'row 5']] = 20 # to run this, you will get 3 new columns\n",
    "# df_obj[[0, 2, 4]] = 10 # to run this, you will get 3 new columns\n",
    "df_obj"
   ]
  },
  {
   "cell_type": "markdown",
   "metadata": {},
   "source": [
    "<h4>segment 2 : treating missing values<br>\n",
    "figuring out what data is missing</h4>"
   ]
  },
  {
   "cell_type": "code",
   "execution_count": 229,
   "metadata": {},
   "outputs": [],
   "source": [
    "# set NaN (not a number) variable\n",
    "missing = np.nan"
   ]
  },
  {
   "cell_type": "code",
   "execution_count": 230,
   "metadata": {},
   "outputs": [
    {
     "data": {
      "text/plain": [
       "0    row 1\n",
       "1      NaN\n",
       "2    row 3\n",
       "3      NaN\n",
       "4    row 5\n",
       "dtype: object"
      ]
     },
     "execution_count": 230,
     "metadata": {},
     "output_type": "execute_result"
    }
   ],
   "source": [
    "# Series\n",
    "# create missing-value series\n",
    "missing_series_obj = Series(['row 1', missing, 'row 3', missing, 'row 5'])\n",
    "missing_series_obj"
   ]
  },
  {
   "cell_type": "code",
   "execution_count": 231,
   "metadata": {},
   "outputs": [
    {
     "data": {
      "text/plain": [
       "0    False\n",
       "1     True\n",
       "2    False\n",
       "3     True\n",
       "4    False\n",
       "dtype: bool"
      ]
     },
     "execution_count": 231,
     "metadata": {},
     "output_type": "execute_result"
    }
   ],
   "source": [
    "# check if NaN value\n",
    "missing_series_obj.isnull()"
   ]
  },
  {
   "cell_type": "code",
   "execution_count": 232,
   "metadata": {},
   "outputs": [
    {
     "data": {
      "text/html": [
       "<div>\n",
       "<style scoped>\n",
       "    .dataframe tbody tr th:only-of-type {\n",
       "        vertical-align: middle;\n",
       "    }\n",
       "\n",
       "    .dataframe tbody tr th {\n",
       "        vertical-align: top;\n",
       "    }\n",
       "\n",
       "    .dataframe thead th {\n",
       "        text-align: right;\n",
       "    }\n",
       "</style>\n",
       "<table border=\"1\" class=\"dataframe\">\n",
       "  <thead>\n",
       "    <tr style=\"text-align: right;\">\n",
       "      <th></th>\n",
       "      <th>0</th>\n",
       "      <th>1</th>\n",
       "      <th>2</th>\n",
       "      <th>3</th>\n",
       "      <th>4</th>\n",
       "      <th>5</th>\n",
       "    </tr>\n",
       "  </thead>\n",
       "  <tbody>\n",
       "    <tr>\n",
       "      <th>0</th>\n",
       "      <td>0.383228</td>\n",
       "      <td>0.972508</td>\n",
       "      <td>0.488229</td>\n",
       "      <td>0.008052</td>\n",
       "      <td>0.489880</td>\n",
       "      <td>0.100984</td>\n",
       "    </tr>\n",
       "    <tr>\n",
       "      <th>1</th>\n",
       "      <td>0.921311</td>\n",
       "      <td>0.376024</td>\n",
       "      <td>NaN</td>\n",
       "      <td>0.873828</td>\n",
       "      <td>0.728943</td>\n",
       "      <td>0.666155</td>\n",
       "    </tr>\n",
       "    <tr>\n",
       "      <th>2</th>\n",
       "      <td>0.593040</td>\n",
       "      <td>0.775660</td>\n",
       "      <td>NaN</td>\n",
       "      <td>0.039176</td>\n",
       "      <td>0.479009</td>\n",
       "      <td>NaN</td>\n",
       "    </tr>\n",
       "    <tr>\n",
       "      <th>3</th>\n",
       "      <td>0.772358</td>\n",
       "      <td>0.662708</td>\n",
       "      <td>NaN</td>\n",
       "      <td>0.754837</td>\n",
       "      <td>0.511035</td>\n",
       "      <td>NaN</td>\n",
       "    </tr>\n",
       "    <tr>\n",
       "      <th>4</th>\n",
       "      <td>0.463479</td>\n",
       "      <td>0.278545</td>\n",
       "      <td>0.467554</td>\n",
       "      <td>0.221994</td>\n",
       "      <td>0.576183</td>\n",
       "      <td>NaN</td>\n",
       "    </tr>\n",
       "    <tr>\n",
       "      <th>5</th>\n",
       "      <td>0.286487</td>\n",
       "      <td>0.131011</td>\n",
       "      <td>0.664528</td>\n",
       "      <td>0.501339</td>\n",
       "      <td>0.510629</td>\n",
       "      <td>0.135533</td>\n",
       "    </tr>\n",
       "  </tbody>\n",
       "</table>\n",
       "</div>"
      ],
      "text/plain": [
       "          0         1         2         3         4         5\n",
       "0  0.383228  0.972508  0.488229  0.008052  0.489880  0.100984\n",
       "1  0.921311  0.376024       NaN  0.873828  0.728943  0.666155\n",
       "2  0.593040  0.775660       NaN  0.039176  0.479009       NaN\n",
       "3  0.772358  0.662708       NaN  0.754837  0.511035       NaN\n",
       "4  0.463479  0.278545  0.467554  0.221994  0.576183       NaN\n",
       "5  0.286487  0.131011  0.664528  0.501339  0.510629  0.135533"
      ]
     },
     "execution_count": 232,
     "metadata": {},
     "output_type": "execute_result"
    }
   ],
   "source": [
    "# DataFrame\n",
    "# create missing-value dataframe\n",
    "missing_df_obj = DataFrame(data=np.random.rand(36).reshape(6,6))\n",
    "missing_df_obj.loc[1:3, 2] = missing\n",
    "missing_df_obj.loc[2:4, 5] = missing\n",
    "missing_df_obj"
   ]
  },
  {
   "cell_type": "code",
   "execution_count": 233,
   "metadata": {},
   "outputs": [
    {
     "data": {
      "text/html": [
       "<div>\n",
       "<style scoped>\n",
       "    .dataframe tbody tr th:only-of-type {\n",
       "        vertical-align: middle;\n",
       "    }\n",
       "\n",
       "    .dataframe tbody tr th {\n",
       "        vertical-align: top;\n",
       "    }\n",
       "\n",
       "    .dataframe thead th {\n",
       "        text-align: right;\n",
       "    }\n",
       "</style>\n",
       "<table border=\"1\" class=\"dataframe\">\n",
       "  <thead>\n",
       "    <tr style=\"text-align: right;\">\n",
       "      <th></th>\n",
       "      <th>0</th>\n",
       "      <th>1</th>\n",
       "      <th>2</th>\n",
       "      <th>3</th>\n",
       "      <th>4</th>\n",
       "      <th>5</th>\n",
       "    </tr>\n",
       "  </thead>\n",
       "  <tbody>\n",
       "    <tr>\n",
       "      <th>0</th>\n",
       "      <td>False</td>\n",
       "      <td>False</td>\n",
       "      <td>False</td>\n",
       "      <td>False</td>\n",
       "      <td>False</td>\n",
       "      <td>False</td>\n",
       "    </tr>\n",
       "    <tr>\n",
       "      <th>1</th>\n",
       "      <td>False</td>\n",
       "      <td>False</td>\n",
       "      <td>True</td>\n",
       "      <td>False</td>\n",
       "      <td>False</td>\n",
       "      <td>False</td>\n",
       "    </tr>\n",
       "    <tr>\n",
       "      <th>2</th>\n",
       "      <td>False</td>\n",
       "      <td>False</td>\n",
       "      <td>True</td>\n",
       "      <td>False</td>\n",
       "      <td>False</td>\n",
       "      <td>True</td>\n",
       "    </tr>\n",
       "    <tr>\n",
       "      <th>3</th>\n",
       "      <td>False</td>\n",
       "      <td>False</td>\n",
       "      <td>True</td>\n",
       "      <td>False</td>\n",
       "      <td>False</td>\n",
       "      <td>True</td>\n",
       "    </tr>\n",
       "    <tr>\n",
       "      <th>4</th>\n",
       "      <td>False</td>\n",
       "      <td>False</td>\n",
       "      <td>False</td>\n",
       "      <td>False</td>\n",
       "      <td>False</td>\n",
       "      <td>True</td>\n",
       "    </tr>\n",
       "    <tr>\n",
       "      <th>5</th>\n",
       "      <td>False</td>\n",
       "      <td>False</td>\n",
       "      <td>False</td>\n",
       "      <td>False</td>\n",
       "      <td>False</td>\n",
       "      <td>False</td>\n",
       "    </tr>\n",
       "  </tbody>\n",
       "</table>\n",
       "</div>"
      ],
      "text/plain": [
       "       0      1      2      3      4      5\n",
       "0  False  False  False  False  False  False\n",
       "1  False  False   True  False  False  False\n",
       "2  False  False   True  False  False   True\n",
       "3  False  False   True  False  False   True\n",
       "4  False  False  False  False  False   True\n",
       "5  False  False  False  False  False  False"
      ]
     },
     "execution_count": 233,
     "metadata": {},
     "output_type": "execute_result"
    }
   ],
   "source": [
    "# check if NaN value\n",
    "missing_df_obj.isnull()"
   ]
  },
  {
   "cell_type": "markdown",
   "metadata": {},
   "source": [
    "<h4>filling in for missing values</h4>"
   ]
  },
  {
   "cell_type": "code",
   "execution_count": 234,
   "metadata": {},
   "outputs": [
    {
     "data": {
      "text/plain": [
       "0    row 1\n",
       "1        0\n",
       "2    row 3\n",
       "3        0\n",
       "4    row 5\n",
       "dtype: object"
      ]
     },
     "execution_count": 234,
     "metadata": {},
     "output_type": "execute_result"
    }
   ],
   "source": [
    "# Series\n",
    "# fill NaN w/ 0\n",
    "filled_series_obj = missing_series_obj.fillna(0)\n",
    "filled_series_obj"
   ]
  },
  {
   "cell_type": "code",
   "execution_count": 235,
   "metadata": {},
   "outputs": [
    {
     "data": {
      "text/plain": [
       "0    row 1\n",
       "1    row 1\n",
       "2    row 3\n",
       "3    row 3\n",
       "4    row 5\n",
       "dtype: object"
      ]
     },
     "execution_count": 235,
     "metadata": {},
     "output_type": "execute_result"
    }
   ],
   "source": [
    "# fill with method (forward fill)\n",
    "# it will take the data in the prior row and fill in NaN\n",
    "filled_series_obj = missing_series_obj.fillna(method='ffill')\n",
    "filled_series_obj"
   ]
  },
  {
   "cell_type": "code",
   "execution_count": 236,
   "metadata": {},
   "outputs": [
    {
     "data": {
      "text/html": [
       "<div>\n",
       "<style scoped>\n",
       "    .dataframe tbody tr th:only-of-type {\n",
       "        vertical-align: middle;\n",
       "    }\n",
       "\n",
       "    .dataframe tbody tr th {\n",
       "        vertical-align: top;\n",
       "    }\n",
       "\n",
       "    .dataframe thead th {\n",
       "        text-align: right;\n",
       "    }\n",
       "</style>\n",
       "<table border=\"1\" class=\"dataframe\">\n",
       "  <thead>\n",
       "    <tr style=\"text-align: right;\">\n",
       "      <th></th>\n",
       "      <th>0</th>\n",
       "      <th>1</th>\n",
       "      <th>2</th>\n",
       "      <th>3</th>\n",
       "      <th>4</th>\n",
       "      <th>5</th>\n",
       "    </tr>\n",
       "  </thead>\n",
       "  <tbody>\n",
       "    <tr>\n",
       "      <th>0</th>\n",
       "      <td>0.383228</td>\n",
       "      <td>0.972508</td>\n",
       "      <td>0.488229</td>\n",
       "      <td>0.008052</td>\n",
       "      <td>0.489880</td>\n",
       "      <td>0.100984</td>\n",
       "    </tr>\n",
       "    <tr>\n",
       "      <th>1</th>\n",
       "      <td>0.921311</td>\n",
       "      <td>0.376024</td>\n",
       "      <td>1.500000</td>\n",
       "      <td>0.873828</td>\n",
       "      <td>0.728943</td>\n",
       "      <td>0.666155</td>\n",
       "    </tr>\n",
       "    <tr>\n",
       "      <th>2</th>\n",
       "      <td>0.593040</td>\n",
       "      <td>0.775660</td>\n",
       "      <td>1.500000</td>\n",
       "      <td>0.039176</td>\n",
       "      <td>0.479009</td>\n",
       "      <td>2.000000</td>\n",
       "    </tr>\n",
       "    <tr>\n",
       "      <th>3</th>\n",
       "      <td>0.772358</td>\n",
       "      <td>0.662708</td>\n",
       "      <td>1.500000</td>\n",
       "      <td>0.754837</td>\n",
       "      <td>0.511035</td>\n",
       "      <td>2.000000</td>\n",
       "    </tr>\n",
       "    <tr>\n",
       "      <th>4</th>\n",
       "      <td>0.463479</td>\n",
       "      <td>0.278545</td>\n",
       "      <td>0.467554</td>\n",
       "      <td>0.221994</td>\n",
       "      <td>0.576183</td>\n",
       "      <td>2.000000</td>\n",
       "    </tr>\n",
       "    <tr>\n",
       "      <th>5</th>\n",
       "      <td>0.286487</td>\n",
       "      <td>0.131011</td>\n",
       "      <td>0.664528</td>\n",
       "      <td>0.501339</td>\n",
       "      <td>0.510629</td>\n",
       "      <td>0.135533</td>\n",
       "    </tr>\n",
       "  </tbody>\n",
       "</table>\n",
       "</div>"
      ],
      "text/plain": [
       "          0         1         2         3         4         5\n",
       "0  0.383228  0.972508  0.488229  0.008052  0.489880  0.100984\n",
       "1  0.921311  0.376024  1.500000  0.873828  0.728943  0.666155\n",
       "2  0.593040  0.775660  1.500000  0.039176  0.479009  2.000000\n",
       "3  0.772358  0.662708  1.500000  0.754837  0.511035  2.000000\n",
       "4  0.463479  0.278545  0.467554  0.221994  0.576183  2.000000\n",
       "5  0.286487  0.131011  0.664528  0.501339  0.510629  0.135533"
      ]
     },
     "execution_count": 236,
     "metadata": {},
     "output_type": "execute_result"
    }
   ],
   "source": [
    "# DataFrame\n",
    "# fill NaN w/ 0\n",
    "# filled_df_obj = missing_df_obj.fillna(0)\n",
    "filled_df_obj = missing_df_obj.fillna({0: 0.1, 2: 1.5, 5: 2.0}) # if specified location is no NaN, then do nothing\n",
    "filled_df_obj"
   ]
  },
  {
   "cell_type": "code",
   "execution_count": 237,
   "metadata": {},
   "outputs": [
    {
     "data": {
      "text/html": [
       "<div>\n",
       "<style scoped>\n",
       "    .dataframe tbody tr th:only-of-type {\n",
       "        vertical-align: middle;\n",
       "    }\n",
       "\n",
       "    .dataframe tbody tr th {\n",
       "        vertical-align: top;\n",
       "    }\n",
       "\n",
       "    .dataframe thead th {\n",
       "        text-align: right;\n",
       "    }\n",
       "</style>\n",
       "<table border=\"1\" class=\"dataframe\">\n",
       "  <thead>\n",
       "    <tr style=\"text-align: right;\">\n",
       "      <th></th>\n",
       "      <th>0</th>\n",
       "      <th>1</th>\n",
       "      <th>2</th>\n",
       "      <th>3</th>\n",
       "      <th>4</th>\n",
       "      <th>5</th>\n",
       "    </tr>\n",
       "  </thead>\n",
       "  <tbody>\n",
       "    <tr>\n",
       "      <th>0</th>\n",
       "      <td>0.383228</td>\n",
       "      <td>0.972508</td>\n",
       "      <td>0.488229</td>\n",
       "      <td>0.008052</td>\n",
       "      <td>0.489880</td>\n",
       "      <td>0.100984</td>\n",
       "    </tr>\n",
       "    <tr>\n",
       "      <th>1</th>\n",
       "      <td>0.921311</td>\n",
       "      <td>0.376024</td>\n",
       "      <td>0.488229</td>\n",
       "      <td>0.873828</td>\n",
       "      <td>0.728943</td>\n",
       "      <td>0.666155</td>\n",
       "    </tr>\n",
       "    <tr>\n",
       "      <th>2</th>\n",
       "      <td>0.593040</td>\n",
       "      <td>0.775660</td>\n",
       "      <td>0.488229</td>\n",
       "      <td>0.039176</td>\n",
       "      <td>0.479009</td>\n",
       "      <td>0.666155</td>\n",
       "    </tr>\n",
       "    <tr>\n",
       "      <th>3</th>\n",
       "      <td>0.772358</td>\n",
       "      <td>0.662708</td>\n",
       "      <td>0.488229</td>\n",
       "      <td>0.754837</td>\n",
       "      <td>0.511035</td>\n",
       "      <td>0.666155</td>\n",
       "    </tr>\n",
       "    <tr>\n",
       "      <th>4</th>\n",
       "      <td>0.463479</td>\n",
       "      <td>0.278545</td>\n",
       "      <td>0.467554</td>\n",
       "      <td>0.221994</td>\n",
       "      <td>0.576183</td>\n",
       "      <td>0.666155</td>\n",
       "    </tr>\n",
       "    <tr>\n",
       "      <th>5</th>\n",
       "      <td>0.286487</td>\n",
       "      <td>0.131011</td>\n",
       "      <td>0.664528</td>\n",
       "      <td>0.501339</td>\n",
       "      <td>0.510629</td>\n",
       "      <td>0.135533</td>\n",
       "    </tr>\n",
       "  </tbody>\n",
       "</table>\n",
       "</div>"
      ],
      "text/plain": [
       "          0         1         2         3         4         5\n",
       "0  0.383228  0.972508  0.488229  0.008052  0.489880  0.100984\n",
       "1  0.921311  0.376024  0.488229  0.873828  0.728943  0.666155\n",
       "2  0.593040  0.775660  0.488229  0.039176  0.479009  0.666155\n",
       "3  0.772358  0.662708  0.488229  0.754837  0.511035  0.666155\n",
       "4  0.463479  0.278545  0.467554  0.221994  0.576183  0.666155\n",
       "5  0.286487  0.131011  0.664528  0.501339  0.510629  0.135533"
      ]
     },
     "execution_count": 237,
     "metadata": {},
     "output_type": "execute_result"
    }
   ],
   "source": [
    "# fill with method (forward fill)\n",
    "filled_df_obj = missing_df_obj.fillna(method='ffill')\n",
    "filled_df_obj"
   ]
  },
  {
   "cell_type": "markdown",
   "metadata": {},
   "source": [
    "<h4>counting missing values<h4>"
   ]
  },
  {
   "cell_type": "code",
   "execution_count": 238,
   "metadata": {},
   "outputs": [
    {
     "name": "stdout",
     "output_type": "stream",
     "text": [
      "0    row 1\n",
      "1      NaN\n",
      "2    row 3\n",
      "3      NaN\n",
      "4    row 5\n",
      "dtype: object\n"
     ]
    },
    {
     "data": {
      "text/plain": [
       "2"
      ]
     },
     "execution_count": 238,
     "metadata": {},
     "output_type": "execute_result"
    }
   ],
   "source": [
    "# Series\n",
    "print(missing_series_obj)\n",
    "missing_series_obj.isnull().sum()"
   ]
  },
  {
   "cell_type": "code",
   "execution_count": 239,
   "metadata": {},
   "outputs": [
    {
     "name": "stdout",
     "output_type": "stream",
     "text": [
      "          0         1         2         3         4         5\n",
      "0  0.383228  0.972508  0.488229  0.008052  0.489880  0.100984\n",
      "1  0.921311  0.376024       NaN  0.873828  0.728943  0.666155\n",
      "2  0.593040  0.775660       NaN  0.039176  0.479009       NaN\n",
      "3  0.772358  0.662708       NaN  0.754837  0.511035       NaN\n",
      "4  0.463479  0.278545  0.467554  0.221994  0.576183       NaN\n",
      "5  0.286487  0.131011  0.664528  0.501339  0.510629  0.135533\n"
     ]
    },
    {
     "data": {
      "text/plain": [
       "0    0\n",
       "1    0\n",
       "2    3\n",
       "3    0\n",
       "4    0\n",
       "5    3\n",
       "dtype: int64"
      ]
     },
     "execution_count": 239,
     "metadata": {},
     "output_type": "execute_result"
    }
   ],
   "source": [
    "# DataFrame\n",
    "print(missing_df_obj)\n",
    "missing_df_obj.isnull().sum()"
   ]
  },
  {
   "cell_type": "markdown",
   "metadata": {},
   "source": [
    "<h4>filtering out missing values</h4>"
   ]
  },
  {
   "cell_type": "code",
   "execution_count": 240,
   "metadata": {},
   "outputs": [
    {
     "data": {
      "text/plain": [
       "0    row 1\n",
       "2    row 3\n",
       "4    row 5\n",
       "dtype: object"
      ]
     },
     "execution_count": 240,
     "metadata": {},
     "output_type": "execute_result"
    }
   ],
   "source": [
    "# Series\n",
    "# filter out NaN\n",
    "series_no_nan = missing_series_obj.dropna()\n",
    "series_no_nan"
   ]
  },
  {
   "cell_type": "code",
   "execution_count": 241,
   "metadata": {},
   "outputs": [
    {
     "data": {
      "text/html": [
       "<div>\n",
       "<style scoped>\n",
       "    .dataframe tbody tr th:only-of-type {\n",
       "        vertical-align: middle;\n",
       "    }\n",
       "\n",
       "    .dataframe tbody tr th {\n",
       "        vertical-align: top;\n",
       "    }\n",
       "\n",
       "    .dataframe thead th {\n",
       "        text-align: right;\n",
       "    }\n",
       "</style>\n",
       "<table border=\"1\" class=\"dataframe\">\n",
       "  <thead>\n",
       "    <tr style=\"text-align: right;\">\n",
       "      <th></th>\n",
       "      <th>0</th>\n",
       "      <th>1</th>\n",
       "      <th>2</th>\n",
       "      <th>3</th>\n",
       "      <th>4</th>\n",
       "      <th>5</th>\n",
       "    </tr>\n",
       "  </thead>\n",
       "  <tbody>\n",
       "    <tr>\n",
       "      <th>0</th>\n",
       "      <td>0.383228</td>\n",
       "      <td>0.972508</td>\n",
       "      <td>0.488229</td>\n",
       "      <td>0.008052</td>\n",
       "      <td>0.489880</td>\n",
       "      <td>0.100984</td>\n",
       "    </tr>\n",
       "    <tr>\n",
       "      <th>5</th>\n",
       "      <td>0.286487</td>\n",
       "      <td>0.131011</td>\n",
       "      <td>0.664528</td>\n",
       "      <td>0.501339</td>\n",
       "      <td>0.510629</td>\n",
       "      <td>0.135533</td>\n",
       "    </tr>\n",
       "  </tbody>\n",
       "</table>\n",
       "</div>"
      ],
      "text/plain": [
       "          0         1         2         3         4         5\n",
       "0  0.383228  0.972508  0.488229  0.008052  0.489880  0.100984\n",
       "5  0.286487  0.131011  0.664528  0.501339  0.510629  0.135533"
      ]
     },
     "execution_count": 241,
     "metadata": {},
     "output_type": "execute_result"
    }
   ],
   "source": [
    "# Dataframe\n",
    "# filter out NaN\n",
    "df_no_nan = missing_df_obj.dropna() # row is default\n",
    "df_no_nan"
   ]
  },
  {
   "cell_type": "code",
   "execution_count": 242,
   "metadata": {},
   "outputs": [
    {
     "data": {
      "text/html": [
       "<div>\n",
       "<style scoped>\n",
       "    .dataframe tbody tr th:only-of-type {\n",
       "        vertical-align: middle;\n",
       "    }\n",
       "\n",
       "    .dataframe tbody tr th {\n",
       "        vertical-align: top;\n",
       "    }\n",
       "\n",
       "    .dataframe thead th {\n",
       "        text-align: right;\n",
       "    }\n",
       "</style>\n",
       "<table border=\"1\" class=\"dataframe\">\n",
       "  <thead>\n",
       "    <tr style=\"text-align: right;\">\n",
       "      <th></th>\n",
       "      <th>0</th>\n",
       "      <th>1</th>\n",
       "      <th>3</th>\n",
       "      <th>4</th>\n",
       "    </tr>\n",
       "  </thead>\n",
       "  <tbody>\n",
       "    <tr>\n",
       "      <th>0</th>\n",
       "      <td>0.383228</td>\n",
       "      <td>0.972508</td>\n",
       "      <td>0.008052</td>\n",
       "      <td>0.489880</td>\n",
       "    </tr>\n",
       "    <tr>\n",
       "      <th>1</th>\n",
       "      <td>0.921311</td>\n",
       "      <td>0.376024</td>\n",
       "      <td>0.873828</td>\n",
       "      <td>0.728943</td>\n",
       "    </tr>\n",
       "    <tr>\n",
       "      <th>2</th>\n",
       "      <td>0.593040</td>\n",
       "      <td>0.775660</td>\n",
       "      <td>0.039176</td>\n",
       "      <td>0.479009</td>\n",
       "    </tr>\n",
       "    <tr>\n",
       "      <th>3</th>\n",
       "      <td>0.772358</td>\n",
       "      <td>0.662708</td>\n",
       "      <td>0.754837</td>\n",
       "      <td>0.511035</td>\n",
       "    </tr>\n",
       "    <tr>\n",
       "      <th>4</th>\n",
       "      <td>0.463479</td>\n",
       "      <td>0.278545</td>\n",
       "      <td>0.221994</td>\n",
       "      <td>0.576183</td>\n",
       "    </tr>\n",
       "    <tr>\n",
       "      <th>5</th>\n",
       "      <td>0.286487</td>\n",
       "      <td>0.131011</td>\n",
       "      <td>0.501339</td>\n",
       "      <td>0.510629</td>\n",
       "    </tr>\n",
       "  </tbody>\n",
       "</table>\n",
       "</div>"
      ],
      "text/plain": [
       "          0         1         3         4\n",
       "0  0.383228  0.972508  0.008052  0.489880\n",
       "1  0.921311  0.376024  0.873828  0.728943\n",
       "2  0.593040  0.775660  0.039176  0.479009\n",
       "3  0.772358  0.662708  0.754837  0.511035\n",
       "4  0.463479  0.278545  0.221994  0.576183\n",
       "5  0.286487  0.131011  0.501339  0.510629"
      ]
     },
     "execution_count": 242,
     "metadata": {},
     "output_type": "execute_result"
    }
   ],
   "source": [
    "# filter out NaN\n",
    "df_no_nan = missing_df_obj.dropna(axis=1)\n",
    "df_no_nan"
   ]
  },
  {
   "cell_type": "markdown",
   "metadata": {},
   "source": [
    "<h4>segment 3 : removing duplicates<br>\n",
    "removing duplicates</h4>"
   ]
  },
  {
   "cell_type": "code",
   "execution_count": 250,
   "metadata": {},
   "outputs": [
    {
     "data": {
      "text/html": [
       "<div>\n",
       "<style scoped>\n",
       "    .dataframe tbody tr th:only-of-type {\n",
       "        vertical-align: middle;\n",
       "    }\n",
       "\n",
       "    .dataframe tbody tr th {\n",
       "        vertical-align: top;\n",
       "    }\n",
       "\n",
       "    .dataframe thead th {\n",
       "        text-align: right;\n",
       "    }\n",
       "</style>\n",
       "<table border=\"1\" class=\"dataframe\">\n",
       "  <thead>\n",
       "    <tr style=\"text-align: right;\">\n",
       "      <th></th>\n",
       "      <th>column 1</th>\n",
       "      <th>column 2</th>\n",
       "      <th>column 3</th>\n",
       "    </tr>\n",
       "  </thead>\n",
       "  <tbody>\n",
       "    <tr>\n",
       "      <th>0</th>\n",
       "      <td>1</td>\n",
       "      <td>a</td>\n",
       "      <td>A</td>\n",
       "    </tr>\n",
       "    <tr>\n",
       "      <th>1</th>\n",
       "      <td>1</td>\n",
       "      <td>a</td>\n",
       "      <td>A</td>\n",
       "    </tr>\n",
       "    <tr>\n",
       "      <th>2</th>\n",
       "      <td>2</td>\n",
       "      <td>b</td>\n",
       "      <td>B</td>\n",
       "    </tr>\n",
       "    <tr>\n",
       "      <th>3</th>\n",
       "      <td>2</td>\n",
       "      <td>b</td>\n",
       "      <td>B</td>\n",
       "    </tr>\n",
       "    <tr>\n",
       "      <th>4</th>\n",
       "      <td>3</td>\n",
       "      <td>c</td>\n",
       "      <td>C</td>\n",
       "    </tr>\n",
       "    <tr>\n",
       "      <th>5</th>\n",
       "      <td>3</td>\n",
       "      <td>c</td>\n",
       "      <td>C</td>\n",
       "    </tr>\n",
       "    <tr>\n",
       "      <th>6</th>\n",
       "      <td>3</td>\n",
       "      <td>c</td>\n",
       "      <td>F</td>\n",
       "    </tr>\n",
       "  </tbody>\n",
       "</table>\n",
       "</div>"
      ],
      "text/plain": [
       "   column 1 column 2 column 3\n",
       "0         1        a        A\n",
       "1         1        a        A\n",
       "2         2        b        B\n",
       "3         2        b        B\n",
       "4         3        c        C\n",
       "5         3        c        C\n",
       "6         3        c        F"
      ]
     },
     "execution_count": 250,
     "metadata": {},
     "output_type": "execute_result"
    }
   ],
   "source": [
    "# DataFrame\n",
    "# crete duplicated dataframe\n",
    "\n",
    "duplicated_df_obj = DataFrame({\n",
    "\t'column 1': [1, 1, 2, 2, 3 ,3, 3],\n",
    "\t'column 2': ['a', 'a', 'b', 'b', 'c', 'c', 'c'],\n",
    "\t'column 3': ['A', 'A', 'B', 'B', 'C', 'C', 'F']\n",
    "})\n",
    "duplicated_df_obj"
   ]
  },
  {
   "cell_type": "code",
   "execution_count": 251,
   "metadata": {},
   "outputs": [
    {
     "data": {
      "text/plain": [
       "0    False\n",
       "1     True\n",
       "2    False\n",
       "3     True\n",
       "4    False\n",
       "5     True\n",
       "6    False\n",
       "dtype: bool"
      ]
     },
     "execution_count": 251,
     "metadata": {},
     "output_type": "execute_result"
    }
   ],
   "source": [
    "# list duplicate rows\n",
    "duplicated_df_obj.duplicated()"
   ]
  },
  {
   "cell_type": "code",
   "execution_count": 252,
   "metadata": {},
   "outputs": [
    {
     "data": {
      "text/html": [
       "<div>\n",
       "<style scoped>\n",
       "    .dataframe tbody tr th:only-of-type {\n",
       "        vertical-align: middle;\n",
       "    }\n",
       "\n",
       "    .dataframe tbody tr th {\n",
       "        vertical-align: top;\n",
       "    }\n",
       "\n",
       "    .dataframe thead th {\n",
       "        text-align: right;\n",
       "    }\n",
       "</style>\n",
       "<table border=\"1\" class=\"dataframe\">\n",
       "  <thead>\n",
       "    <tr style=\"text-align: right;\">\n",
       "      <th></th>\n",
       "      <th>column 1</th>\n",
       "      <th>column 2</th>\n",
       "      <th>column 3</th>\n",
       "    </tr>\n",
       "  </thead>\n",
       "  <tbody>\n",
       "    <tr>\n",
       "      <th>0</th>\n",
       "      <td>1</td>\n",
       "      <td>a</td>\n",
       "      <td>A</td>\n",
       "    </tr>\n",
       "    <tr>\n",
       "      <th>2</th>\n",
       "      <td>2</td>\n",
       "      <td>b</td>\n",
       "      <td>B</td>\n",
       "    </tr>\n",
       "    <tr>\n",
       "      <th>4</th>\n",
       "      <td>3</td>\n",
       "      <td>c</td>\n",
       "      <td>C</td>\n",
       "    </tr>\n",
       "    <tr>\n",
       "      <th>6</th>\n",
       "      <td>3</td>\n",
       "      <td>c</td>\n",
       "      <td>F</td>\n",
       "    </tr>\n",
       "  </tbody>\n",
       "</table>\n",
       "</div>"
      ],
      "text/plain": [
       "   column 1 column 2 column 3\n",
       "0         1        a        A\n",
       "2         2        b        B\n",
       "4         3        c        C\n",
       "6         3        c        F"
      ]
     },
     "execution_count": 252,
     "metadata": {},
     "output_type": "execute_result"
    }
   ],
   "source": [
    "# drop duplicate in rows\n",
    "non_dup_df = duplicated_df_obj.drop_duplicates()\n",
    "non_dup_df"
   ]
  },
  {
   "cell_type": "code",
   "execution_count": 254,
   "metadata": {},
   "outputs": [
    {
     "data": {
      "text/html": [
       "<div>\n",
       "<style scoped>\n",
       "    .dataframe tbody tr th:only-of-type {\n",
       "        vertical-align: middle;\n",
       "    }\n",
       "\n",
       "    .dataframe tbody tr th {\n",
       "        vertical-align: top;\n",
       "    }\n",
       "\n",
       "    .dataframe thead th {\n",
       "        text-align: right;\n",
       "    }\n",
       "</style>\n",
       "<table border=\"1\" class=\"dataframe\">\n",
       "  <thead>\n",
       "    <tr style=\"text-align: right;\">\n",
       "      <th></th>\n",
       "      <th>column 1</th>\n",
       "      <th>column 2</th>\n",
       "      <th>column 3</th>\n",
       "    </tr>\n",
       "  </thead>\n",
       "  <tbody>\n",
       "    <tr>\n",
       "      <th>0</th>\n",
       "      <td>1</td>\n",
       "      <td>a</td>\n",
       "      <td>A</td>\n",
       "    </tr>\n",
       "    <tr>\n",
       "      <th>2</th>\n",
       "      <td>2</td>\n",
       "      <td>b</td>\n",
       "      <td>B</td>\n",
       "    </tr>\n",
       "    <tr>\n",
       "      <th>4</th>\n",
       "      <td>3</td>\n",
       "      <td>c</td>\n",
       "      <td>C</td>\n",
       "    </tr>\n",
       "  </tbody>\n",
       "</table>\n",
       "</div>"
      ],
      "text/plain": [
       "   column 1 column 2 column 3\n",
       "0         1        a        A\n",
       "2         2        b        B\n",
       "4         3        c        C"
      ]
     },
     "execution_count": 254,
     "metadata": {},
     "output_type": "execute_result"
    }
   ],
   "source": [
    "# drop duplicate w/ specification\n",
    "non_dup_df = duplicated_df_obj.drop_duplicates('column 2')\n",
    "non_dup_df"
   ]
  }
 ],
 "metadata": {
  "kernelspec": {
   "display_name": "Python 3.11.0 64-bit",
   "language": "python",
   "name": "python3"
  },
  "language_info": {
   "codemirror_mode": {
    "name": "ipython",
    "version": 3
   },
   "file_extension": ".py",
   "mimetype": "text/x-python",
   "name": "python",
   "nbconvert_exporter": "python",
   "pygments_lexer": "ipython3",
   "version": "3.11.0"
  },
  "orig_nbformat": 4,
  "vscode": {
   "interpreter": {
    "hash": "aee8b7b246df8f9039afb4144a1f6fd8d2ca17a180786b69acc140d282b71a49"
   }
  }
 },
 "nbformat": 4,
 "nbformat_minor": 2
}
